{
 "cells": [
  {
   "cell_type": "markdown",
   "metadata": {},
   "source": [
    "# This is code for making a star diamond (symmetric)"
   ]
  },
  {
   "cell_type": "code",
   "execution_count": 1,
   "metadata": {},
   "outputs": [],
   "source": [
    " h = eval(input(\"Enter diamond's height: \"))\n",
    "for x in range(h):\n",
    "    print(\" \" * (h - x), \"*\" * (2*x + 1))\n",
    "for x in range(h - 2, -1, -1):\n",
    "    print(\" \" * (h - x), \"*\" * (2*x + 1))\n",
    "    \n",
    "    "
   ]
  },
  {
   "cell_type": "markdown",
   "metadata": {},
   "source": [
    "# This code is for Checking a random guess"
   ]
  },
  {
   "cell_type": "code",
   "execution_count": 2,
   "metadata": {},
   "outputs": [
    {
     "name": "stdout",
     "output_type": "stream",
     "text": [
      "Enter your guess: 6\n",
      "Sorry. The number is  8\n"
     ]
    }
   ],
   "source": [
    "from random import randint\n",
    "num = randint(1,10)\n",
    "guess = eval(input('Enter your guess: '))\n",
    "if guess==num:\n",
    "    print('You got it!')\n",
    "else:\n",
    "    print('Sorry. The number is ', num)"
   ]
  },
  {
   "cell_type": "markdown",
   "metadata": {},
   "source": [
    "# Chapter 4 \n",
    "# If statements"
   ]
  },
  {
   "cell_type": "markdown",
   "metadata": {},
   "source": [
    "## Guess a number Program"
   ]
  },
  {
   "cell_type": "code",
   "execution_count": null,
   "metadata": {},
   "outputs": [],
   "source": [
    "from random import randint\n",
    "num = randint(1,200)\n",
    "guess=eval(input('Enter your Guess:'))\n",
    "if guess==num:\n",
    "    print ('you got it')\n",
    "else:\n",
    "    print ('Sorry, the number is', num)"
   ]
  },
  {
   "cell_type": "code",
   "execution_count": 8,
   "metadata": {},
   "outputs": [
    {
     "name": "stdout",
     "output_type": "stream",
     "text": [
      "Hey ! What do you think of a number now155\n",
      "Sorry The number is 1869129\n"
     ]
    }
   ],
   "source": [
    "from random import randint\n",
    "bar = randint(1,2000000)\n",
    "mar = eval(input('Hey ! What do you think of a number now'))\n",
    "if bar==mar:\n",
    "    print ('Wow! You Got me')\n",
    "else:\n",
    "    print('Sorry The number is', bar)"
   ]
  },
  {
   "cell_type": "raw",
   "metadata": {},
   "source": [
    "Expression Description\n",
    "if x>3: if x is greater than 3\n",
    "if x>=3: if x is greater than or equal to 3\n",
    "if x==3: if x is 3\n",
    "if x!=3: if x is not 3"
   ]
  },
  {
   "cell_type": "code",
   "execution_count": null,
   "metadata": {},
   "outputs": [],
   "source": []
  },
  {
   "cell_type": "code",
   "execution_count": null,
   "metadata": {},
   "outputs": [],
   "source": [
    "Marks = eval(input('Write down your makrs'))\n",
    "if Marks>=80 and Marks<90:\n",
    "    print('Your grade is a B.')\n",
    "    \n",
    "\n"
   ]
  },
  {
   "cell_type": "code",
   "execution_count": null,
   "metadata": {},
   "outputs": [],
   "source": [
    "score = eval(input(' What is the time or your score'))\n",
    "if score>1000:\n",
    "    print('Game over.')\n",
    "else:\n",
    "    print('Game continues.')"
   ]
  },
  {
   "cell_type": "code",
   "execution_count": null,
   "metadata": {},
   "outputs": [],
   "source": [
    "grade = eval(input('Enter your score: '))\n",
    "if grade>=90:\n",
    "    print('A')\n",
    "if grade>=80 and grade<90:\n",
    "    print('B')\n",
    "if grade>=70 and grade<80:\n",
    "    print('C')\n",
    "if grade>=60 and grade<70:\n",
    "    print('D')\n",
    "if grade<60:\n",
    "    print('F')"
   ]
  },
  {
   "cell_type": "code",
   "execution_count": 7,
   "metadata": {},
   "outputs": [
    {
     "name": "stdout",
     "output_type": "stream",
     "text": [
      "what is your grade 6\n",
      "hai aawuyo malkuilmot\n"
     ]
    }
   ],
   "source": [
    "grade =eval(input('what is your grade '))\n",
    "if grade>=90:\n",
    "    print('wha kya baat hai')\n",
    "elif grade >= 80:\n",
    "    print('chalo theek chu')\n",
    "elif grade>=70:\n",
    "    print('naer gas daffa')\n",
    "elif grade<70:\n",
    "    print('hai aawuyo malkuilmot')\n"
   ]
  },
  {
   "cell_type": "code",
   "execution_count": null,
   "metadata": {},
   "outputs": [],
   "source": []
  },
  {
   "cell_type": "markdown",
   "metadata": {},
   "source": [
    "# Miscellsneous \n"
   ]
  },
  {
   "cell_type": "code",
   "execution_count": null,
   "metadata": {},
   "outputs": [],
   "source": [
    "count=0\n",
    "for i in range(10):\n",
    "    num = eval(input('Enter a number: '))\n",
    "    if num>10:\n",
    "        count=count+1\n",
    "print('There are', count, 'numbers greater than 10.')"
   ]
  },
  {
   "cell_type": "code",
   "execution_count": 21,
   "metadata": {},
   "outputs": [
    {
     "name": "stdout",
     "output_type": "stream",
     "text": [
      "Enter a number: 2\n",
      "Enter a number: 3\n",
      "Enter a number: 4\n",
      "Enter a number: 5\n",
      "Enter a number: 6\n",
      "Enter a number: 0\n",
      "Enter a number: 0\n",
      "Enter a number: 0\n",
      "Enter a number: 546\n",
      "Enter a number: 0\n",
      "There are 1 numbers greater than 10.\n",
      "There are 4 zeroes.\n"
     ]
    }
   ],
   "source": [
    "count1 = 0\n",
    "count2 = 0\n",
    "for i in range(10):\n",
    "    num = eval(input('Enter a number: '))\n",
    "    if num>10:\n",
    "        count1=count1+1\n",
    "    if num==0:\n",
    "        count2=count2+1\n",
    "print('There are', count1, 'numbers greater than 10.')\n",
    "print('There are', count2, 'zeroes.')"
   ]
  },
  {
   "cell_type": "code",
   "execution_count": 2,
   "metadata": {},
   "outputs": [
    {
     "name": "stdout",
     "output_type": "stream",
     "text": [
      "Enter a number: 5\n",
      "Enter a number: 9\n",
      "Enter a number: 6\n",
      "Enter a number: 2\n",
      "Enter a number: 14\n",
      "Enter a number: 5\n",
      "Enter a number: 2\n",
      "Enter a number: 6\n",
      "Enter a number: 5\n",
      "Enter a number: 2\n",
      "There are 0 numbers greater than 10.\n"
     ]
    }
   ],
   "source": [
    "count=0\n",
    "for i in range(10):\n",
    "    num = eval(input('Enter a number: '))\n",
    "if num>10:\n",
    "    count=count+1\n",
    "print('There are', count, 'numbers greater than 10.')"
   ]
  },
  {
   "cell_type": "code",
   "execution_count": 2,
   "metadata": {},
   "outputs": [
    {
     "data": {
      "text/plain": [
       "'scr'"
      ]
     },
     "execution_count": 2,
     "metadata": {},
     "output_type": "execute_result"
    }
   ],
   "source": [
    "s='Description'\n",
    "s[2:5]"
   ]
  },
  {
   "cell_type": "code",
   "execution_count": 5,
   "metadata": {},
   "outputs": [
    {
     "data": {
      "text/plain": [
       "'gnirts eht sesrever pets evitagen a'"
      ]
     },
     "execution_count": 5,
     "metadata": {},
     "output_type": "execute_result"
    }
   ],
   "source": [
    "s='a negative step reverses the string'\n",
    "s[::-1]"
   ]
  },
  {
   "cell_type": "code",
   "execution_count": 7,
   "metadata": {},
   "outputs": [
    {
     "data": {
      "text/plain": [
       "'hnigidvd'"
      ]
     },
     "execution_count": 7,
     "metadata": {},
     "output_type": "execute_result"
    }
   ],
   "source": [
    "s='Changing individual characters of a string'\n",
    "s[1:16:2]"
   ]
  },
  {
   "cell_type": "code",
   "execution_count": 58,
   "metadata": {},
   "outputs": [
    {
     "name": "stdout",
     "output_type": "stream",
     "text": [
      "iidl\n"
     ]
    }
   ],
   "source": [
    "s='individual'\n",
    "print(s[:10:3])\n"
   ]
  },
  {
   "cell_type": "code",
   "execution_count": 1,
   "metadata": {},
   "outputs": [
    {
     "ename": "NameError",
     "evalue": "name 's' is not defined",
     "output_type": "error",
     "traceback": [
      "\u001b[1;31m---------------------------------------------------------------------------\u001b[0m",
      "\u001b[1;31mNameError\u001b[0m                                 Traceback (most recent call last)",
      "\u001b[1;32m<ipython-input-1-94f8c86767df>\u001b[0m in \u001b[0;36m<module>\u001b[1;34m\u001b[0m\n\u001b[1;32m----> 1\u001b[1;33m \u001b[1;32mfor\u001b[0m \u001b[0mi\u001b[0m \u001b[1;32min\u001b[0m \u001b[0mrange\u001b[0m\u001b[1;33m(\u001b[0m\u001b[0mlen\u001b[0m\u001b[1;33m(\u001b[0m\u001b[0ms\u001b[0m\u001b[1;33m)\u001b[0m\u001b[1;33m)\u001b[0m\u001b[1;33m:\u001b[0m\u001b[1;33m\u001b[0m\u001b[1;33m\u001b[0m\u001b[0m\n\u001b[0m\u001b[0;32m      2\u001b[0m     \u001b[0mprint\u001b[0m \u001b[1;33m(\u001b[0m\u001b[0ms\u001b[0m\u001b[1;33m[\u001b[0m\u001b[0mi\u001b[0m\u001b[1;33m]\u001b[0m\u001b[1;33m)\u001b[0m\u001b[1;33m\u001b[0m\u001b[1;33m\u001b[0m\u001b[0m\n",
      "\u001b[1;31mNameError\u001b[0m: name 's' is not defined"
     ]
    }
   ],
   "source": [
    "for i in range(len(s)):\n",
    "    print (s[i])\n"
   ]
  },
  {
   "cell_type": "code",
   "execution_count": 2,
   "metadata": {},
   "outputs": [
    {
     "ename": "SyntaxError",
     "evalue": "unexpected EOF while parsing (<ipython-input-2-778d22ae4fca>, line 4)",
     "output_type": "error",
     "traceback": [
      "\u001b[1;36m  File \u001b[1;32m\"<ipython-input-2-778d22ae4fca>\"\u001b[1;36m, line \u001b[1;32m4\u001b[0m\n\u001b[1;33m    \u001b[0m\n\u001b[1;37m    ^\u001b[0m\n\u001b[1;31mSyntaxError\u001b[0m\u001b[1;31m:\u001b[0m unexpected EOF while parsing\n"
     ]
    }
   ],
   "source": [
    "v='ABCDEFGHIJKLMNOPQRSTUVWXYZ'\n",
    "for i in range (len(v)):\n",
    "   # print(v[i])\n",
    "    "
   ]
  },
  {
   "cell_type": "code",
   "execution_count": 4,
   "metadata": {},
   "outputs": [
    {
     "ename": "SyntaxError",
     "evalue": "unexpected EOF while parsing (<ipython-input-4-2bedae8796ba>, line 3)",
     "output_type": "error",
     "traceback": [
      "\u001b[1;36m  File \u001b[1;32m\"<ipython-input-4-2bedae8796ba>\"\u001b[1;36m, line \u001b[1;32m3\u001b[0m\n\u001b[1;33m    # print(t[i])\u001b[0m\n\u001b[1;37m                 ^\u001b[0m\n\u001b[1;31mSyntaxError\u001b[0m\u001b[1;31m:\u001b[0m unexpected EOF while parsing\n"
     ]
    }
   ],
   "source": [
    "t='ABCDEFGHIJKLMNOPQRSTUVWXYZ'\n",
    "for i in range (len(t)):\n",
    "   # print(t[i])"
   ]
  },
  {
   "cell_type": "code",
   "execution_count": 5,
   "metadata": {},
   "outputs": [
    {
     "ename": "SyntaxError",
     "evalue": "unexpected EOF while parsing (<ipython-input-5-b9d12cb0c4c1>, line 2)",
     "output_type": "error",
     "traceback": [
      "\u001b[1;36m  File \u001b[1;32m\"<ipython-input-5-b9d12cb0c4c1>\"\u001b[1;36m, line \u001b[1;32m2\u001b[0m\n\u001b[1;33m    #print(c)\u001b[0m\n\u001b[1;37m             ^\u001b[0m\n\u001b[1;31mSyntaxError\u001b[0m\u001b[1;31m:\u001b[0m unexpected EOF while parsing\n"
     ]
    }
   ],
   "source": [
    "for c in t:\n",
    "    #print(c)"
   ]
  },
  {
   "cell_type": "code",
   "execution_count": 15,
   "metadata": {},
   "outputs": [
    {
     "name": "stdout",
     "output_type": "stream",
     "text": [
      "WHAT ARE THE xDDS AGAINST THIS DIVISIxN\n",
      "4\n",
      "14\n"
     ]
    }
   ],
   "source": [
    "s='what are the odds against this division'\n",
    "s=s.upper()\n",
    "s=s.replace('O','x')\n",
    "print(s)\n",
    "print(s.count('T'))\n",
    "print(s.index('D'))"
   ]
  },
  {
   "cell_type": "code",
   "execution_count": 16,
   "metadata": {},
   "outputs": [
    {
     "name": "stdout",
     "output_type": "stream",
     "text": [
      "Enter a stringvbvbvbv dzezw wz w5\n",
      "Your string starts with a letter\n",
      "Your string contains a non-letter.\n"
     ]
    }
   ],
   "source": [
    "s = input('Enter a string')\n",
    "if s[0].isalpha():\n",
    "    print('Your string starts with a letter')\n",
    "if not s.isalpha():\n",
    "    print('Your string contains a non-letter.')"
   ]
  },
  {
   "cell_type": "code",
   "execution_count": 48,
   "metadata": {},
   "outputs": [
    {
     "name": "stdout",
     "output_type": "stream",
     "text": [
      "Enter some text: abstract\n",
      "0\n",
      "5\n"
     ]
    }
   ],
   "source": [
    "s = input('Enter some text: ')\n",
    "for i in range(len(s)):\n",
    "    if s[i]=='a':\n",
    "        print(i)"
   ]
  },
  {
   "cell_type": "code",
   "execution_count": 53,
   "metadata": {},
   "outputs": [
    {
     "name": "stdout",
     "output_type": "stream",
     "text": [
      "Enter some text: ma\n",
      "mmaa\n"
     ]
    }
   ],
   "source": [
    "s = input('Enter some text: ')\n",
    "doubled_s = ''\n",
    "for c in s:\n",
    "    doubled_s = doubled_s + c*2\n",
    "print(doubled_s)"
   ]
  },
  {
   "cell_type": "code",
   "execution_count": 59,
   "metadata": {},
   "outputs": [
    {
     "name": "stdout",
     "output_type": "stream",
     "text": [
      "Enter your decimal number: 3.254\n",
      "254\n"
     ]
    }
   ],
   "source": [
    "s = input('Enter your decimal number: ')\n",
    "print(s[s.index('.')+1:])"
   ]
  },
  {
   "cell_type": "code",
   "execution_count": 1,
   "metadata": {},
   "outputs": [
    {
     "name": "stdout",
     "output_type": "stream",
     "text": [
      "Enter your decimal number:3.142\n",
      "0.1419999999999999\n"
     ]
    }
   ],
   "source": [
    "from math import floor\n",
    "num = eval(input('Enter your decimal number:'))\n",
    "print(num-floor(num))"
   ]
  },
  {
   "cell_type": "code",
   "execution_count": 2,
   "metadata": {},
   "outputs": [
    {
     "name": "stdout",
     "output_type": "stream",
     "text": [
      "Enter your decimal number:3.1245\n",
      "3\n"
     ]
    }
   ],
   "source": [
    "from math import floor\n",
    "num = eval(input('Enter your decimal number:'))\n",
    "print(floor(num))"
   ]
  },
  {
   "cell_type": "code",
   "execution_count": null,
   "metadata": {},
   "outputs": [],
   "source": [
    "alphabet = 'abcdefghijklmnopqrstuvwxyz'\n",
    "key = 'xznlwebgjhqdyvtkfuompciasr'\n",
    "secret_message = input('Enter your message: ')\n",
    "secret_message = secret_message.lower()\n",
    "for c in secret_message:\n",
    "    if c.isalpha() :\n",
    "        print(c)\n",
    "    "
   ]
  },
  {
   "cell_type": "code",
   "execution_count": 17,
   "metadata": {},
   "outputs": [
    {
     "name": "stdout",
     "output_type": "stream",
     "text": [
      "Enter your message: abcdefghijklmnopqrstuvwxyz\n",
      "xznlwebgjhqdyvtkfuompciasr"
     ]
    }
   ],
   "source": [
    "alphabet = 'abcdefghijklmnopqrstuvwxyz'\n",
    "key = 'xznlwebgjhqdyvtkfuompciasr'\n",
    "secret_message = input('Enter your message: ')\n",
    "secret_message = secret_message.lower()\n",
    "for c in secret_message:\n",
    "    if c.isalpha():\n",
    "        print(key[alphabet.index(c)],end='')\n",
    "    else:\n",
    "        print(c, end='')\n"
   ]
  },
  {
   "cell_type": "code",
   "execution_count": 31,
   "metadata": {},
   "outputs": [
    {
     "name": "stdout",
     "output_type": "stream",
     "text": [
      "Please enter your list here2,4,7,9,5,6,6\n",
      "The first element of your list is 2\n",
      "The last element of your list is 6\n",
      "Your list contains the number 2.\n",
      "Your list has no zeroes.\n"
     ]
    }
   ],
   "source": [
    "list=eval(input('Please enter your list here'))\n",
    "x=[]\n",
    "for i in list:\n",
    "    x.append(i)\n",
    "print('The first element of your list is',x[0])\n",
    "print('The last element of your list is',x[len(x)-1])\n",
    "if 2 in L:\n",
    "    print('Your list contains the number 2.')\n",
    "if 0 not in L:\n",
    "    print('Your list has no zeroes.')"
   ]
  },
  {
   "cell_type": "code",
   "execution_count": 30,
   "metadata": {},
   "outputs": [
    {
     "name": "stdout",
     "output_type": "stream",
     "text": [
      "[1, 2, 3, 'a,b,c', '999']\n"
     ]
    }
   ],
   "source": [
    "L = [1,2,3,'a,b,c','999']\n",
    "print(L)"
   ]
  },
  {
   "cell_type": "markdown",
   "metadata": {},
   "source": [
    "# List Indexing"
   ]
  },
  {
   "cell_type": "code",
   "execution_count": 4,
   "metadata": {},
   "outputs": [
    {
     "data": {
      "text/plain": [
       "[4, 1, 66, 4]"
      ]
     },
     "execution_count": 4,
     "metadata": {},
     "output_type": "execute_result"
    }
   ],
   "source": [
    "x=[2,8,4,9,66,78,1,32,4,7,859,51214,10]\n",
    "#x[6:]   #First six elements are left\n",
    "#out=[1, 32, 4, 7, 859, 51214, 10]  \n",
    "#x[:6]   #first six elements are retained\n",
    "#out=[2, 8, 4, 9, 66, 78]\n",
    "#x[::-1] #Reverses the whole list\n",
    "#out=[10, 51214, 859, 7, 4, 32, 1, 78, 66, 9, 4, 8, 2]\n",
    "#x[6::-1] #first six elemnts are retained and placed in reverse order\n",
    "#out=[1, 78, 66, 9, 4, 8, 2]\n",
    "#x[:6:-1]  #first six elements are left and rest are placed in reverse oredr\n",
    "#out=[10, 51214, 859, 7, 4, 32]\n",
    "#x[3:6]     #first three are left and rest upto first six are to be reatined.   \n",
    "#out=[9, 66, 78]\n",
    "#x[3:6:-1]  #one would expect [9, 66, 78] in reverse order i.e. [78,66,9]  but it doesnot work like that\n",
    "#out=[]     #to get the above order first index must be greater than the second index \n",
    "#x[5:2:-1] # negative one as mentioned above reverses the job of first index and the second one.\n",
    "#out[78, 66, 9]\n",
    "#x[6:3:-1]\n",
    "#out=[1, 78, 66]\n",
    "#x[3:0:-1]   #since minus one is there therfore, first three are retained, first one is left and result is reveresely placed\n",
    "#out=[9, 4, 8]\n",
    "#x[2:0:-1]\n",
    "#out=[4,8]\n",
    "#x[3:-1:-1]\n",
    "#out=[]\n",
    "#x[3::-1]  #minus one is there and first three are to be retained, no one is to be left and order reversed\n",
    "#out=[9, 4, 8, 2]  #number of elements is always one greater than the index value and vice cersa\n",
    "x[8:1:-2] # the order is reversed and elements placed in steps of two."
   ]
  },
  {
   "cell_type": "code",
   "execution_count": 35,
   "metadata": {},
   "outputs": [
    {
     "data": {
      "text/plain": [
       "[[2, 4, 5, 6, 7, 8, 9], [2, 4, 5, 6, 7, 8, 9], [2, 4, 5, 6, 7, 8, 9]]"
      ]
     },
     "execution_count": 35,
     "metadata": {},
     "output_type": "execute_result"
    }
   ],
   "source": [
    "l1=[2,4,5,6,7,8,9]\n",
    "l2=[23,14,1,5,16,71,8,147]\n",
    "#l1+l2 \n",
    "#out=[2, 4, 5, 6, 7, 8, 9, 23, 14, 1, 5, 16, 71, 8, 147]\n",
    "#[l1]*3\n",
    "#out=[[2, 4, 5, 6, 7, 8, 9], [2, 4, 5, 6, 7, 8, 9], [2, 4, 5, 6, 7, 8, 9]]"
   ]
  },
  {
   "cell_type": "markdown",
   "metadata": {},
   "source": [
    "# Some Operations on lists"
   ]
  },
  {
   "cell_type": "code",
   "execution_count": 4,
   "metadata": {},
   "outputs": [],
   "source": [
    "nums = [0, 1, 2, 3, 4, 5, 6, 7, 8, 9, 10, 11, 12, 13, 14, 15, 16,\n",
    "17, 18, 19, 20, 21, 22, 23, 24, 37, 26, 27, 28, 29, 30, 31,\n",
    "32, 33, 34, 35, 36, 25, 38, 39, 40]\n",
    "#len(nums) #len(nums) gives the total elemnts in the list \n",
    "#if 2 in nums:\n",
    "    #print('Your list contains the number 2.')\n",
    "#if 0 not in nums:\n",
    "    #print('Your list has no zeroes.')\n",
    "#for i in range(len(nums)): \n",
    "    #print(nums[i]) #Here (nums[i]) prints value in nums list for index i. it prints it as a vertical colomn in ascending order\n",
    "                    #loop is useful for problems where you need to use the loop variable i to keep track of \n",
    "                     #where you are in the loop\n",
    "#for item in nums: # any different variable other than i can also be used as here 'item ' has been used.    \n",
    "    #print(item)   # here no track is to be mainatined.\n",
    "#average = sum(nums)/len(nums)\n",
    "#print(average)\n",
    "#min(nums) #out=0\n",
    "#max(nums) #out=40\n",
    "#nums.append(41)       #adds x to the end of the list\n",
    "#out=[0, 1, 2, 3, 4, 5, 6, 7, 8, 9, 10, 11, 12, 13, 14, 15, 16, 17, 18, 19, 20, 21, 22,\n",
    "                   #23, 24, 25, 26, 27, 28, 29, 30, 31, 32, 33, 34, 35, 36, 37, 38, 39, 40, 41]\n",
    "#print(nums) # Important note There is a big difference between list methods and string methods: \n",
    "             #String methods do not change the original string, but list methods do change the original list. To sort a list L,\n",
    "             #just use L.sort() and not L=L.sort(). In fact, the latter will not work at all.\n",
    "               #wrong                             right\n",
    "            #s.replace('X','x')                s = s.replace('X','x')\n",
    "            #L = L.sort()                        L.sort()\n",
    "\n",
    "#nums.sort()          #sorts the list\n",
    "#input=nums = [0, 1, 2, 3, 4, 5, 6, 7, 8, 9, 10, 11, 12, 13, 14, 15, 16,\n",
    "               #17, 18, 19, 20, 21, 22, 23, 24, 37, 26, 27, 28, 29, 30, 31,\n",
    "               #32, 33, 34, 35, 36, 25, 38, 39, 40]\n",
    "#print(nums)\n",
    "#out= [0, 1, 2, 3, 4, 5, 6, 7, 8, 9, 10, 11, 12, 13, 14, 15, 16, 17, 18, 19, 20, 21, 22, \n",
    "       #23, 24, 25, 26, 27, 28, 29, 30, 31, 32, 33, 34, 35, 36, 37, 38, 39, 40] # Here 25 has been replaced by 37 and vice versa\n",
    "#nums.count(5)        #returns the number of times x occurs in the list\n",
    "#out =1\n",
    "#nums.index(37)        #returns the location of the first occurrence of x\n",
    "#out=25\n",
    "#nums.reverse()       #reverses the list\n",
    "#print(nums)\n",
    "#out=[40, 39, 38, 25, 36, 35, 34, 33, 32, 31, 30, 29, 28, 27, 26, 37, 24, 23, 22, 21,\n",
    "     #20, 19, 18, 17, 16, 15, 14, 13, 12, 11, 10, 9, 8, 7, 6, 5, 4, 3, 2, 1, 0]\n",
    "#nums.remove(20)       #removes first occurrence of x from the list\n",
    "#print(nums)\n",
    "#out= [0, 1, 2, 3, 4, 5, 6, 7, 8, 9, 10, 11, 12, 13, 14, 15, 16, 17, 18, 19, \n",
    "     #21, 22, 23, 24, 37, 26, 27, 28, 29, 30, 31, 32, 33, 34, 35, 36, 25, 38, 39, 40] without 20.\n",
    "#nums.pop(39)          #removes the item at index p and returns its value\n",
    "#print(nums)\n",
    "#out=[0, 1, 2, 3, 4, 5, 6, 7, 8, 9, 10, 11, 12, 13, 14, 15, 16, 17, 18, 19, 20, 21, 22, 23,\n",
    "     #24, 37, 26, 27, 28, 29, 30, 31, 32, 33, 34, 35, 36, 25, 38, 40] returns value at index 39\n",
    "     #and list is retuened without that value\n",
    "        \n",
    "                                          ###$$$\n",
    "\n",
    "#nums.insert(18,200)     #inserts x at index p of the list\n",
    "#print(nums)\n",
    "#out=[0, 1, 2, 3, 4, 5, 6, 7, 8, 9, 10, 11, 12, 13, 14, 15, 16, 17, 200,\n",
    "     #18, 19, 20, 21, 22, 23, 24, 37, 26, 27, 28, 29, 30, 31, 32, 33, 34, 35, 36, 25, 38, 39, 40] \n",
    "    #here value at index 18 is changed with 200\n",
    "    \n",
    "                                       ##changing lists\n",
    "        \n",
    "#nums[3]=100\n",
    "#print(nums)\n",
    "#out=[0, 1, 2, 100, 4, 5, 6, 7, 8, 9, 10, 11, 12, 13, 14, 15, 16, 17, 18, 19, 20, 21, 22, 23, 24, 37, 26, \n",
    "#27, 28, 29, 30, 31, 32, 33, 34, 35, 36, 25, 38, 39, 40]\n",
    "\n",
    "                                            ###$$$\n",
    "#del nums[8]\n",
    "#print (nums)\n",
    "#out=[0, 1, 2, 3, 4, 5, 6, 7, 9, 10, 11, 12, 13, 14, 15, 16, 17, 18, 19, 20, 21, 22, 23,\n",
    "#24, 37, 26, 27, 28, 29, 30, 31, 32, 33, 34, 35, 36, 25, 38, 39, 40]  here output is without number at index 8 i.e, 8\n",
    "\n",
    "                                            ###$$$\n",
    "#del nums[:2]         #delete first two items\n",
    "#print(nums)           # Since nums[:2] retains first two and del will delete same two\n",
    "#out=[2, 3, 4, 5, 6, 7, 8, 9, 10, 11, 12, 13, 14, 15, 16, 17, 18, 19, 20, 21, 22, 23, 24,\n",
    " #37, 26, 27, 28, 29, 30, 31, 32, 33, 34, 35, 36, 25, 38, 39, 40]\n",
    "    \n",
    "                                             ###$$$\n",
    "        \n",
    "## Write a program that generates a list L of 50 random numbers between 1 and 100.\n",
    "#from random import randint\n",
    "#L=[]\n",
    "#for i in range (50):\n",
    "    #L.append(randint(1,100))\n",
    "#print(L)\n",
    "#out=[5, 80, 10, 70, 59, 70, 34, 13, 68, 97, 38, 52, 94, 81, 61, 79, 72, 67, 50, 44,\n",
    "#8, 18, 68, 50, 90, 53, 6, 76, 15, 26, 62, 15, 80, 40, 76, 93, 99, 53, 64, 20, 45, 38, 32, 100, 28, 34, 35, 6, 68, 98]\n",
    "\n",
    "                                              ###$$$\n",
    "    \n",
    "## Alternative method to the above\n",
    "#from random import randint\n",
    "#L=[]\n",
    "#for i in range (60):\n",
    "   # L = L + [randint(1,100)]\n",
    "    #print(L)\n",
    "#print(L)\n",
    "\n",
    "                                                ###$$$\n",
    "    \n",
    "    \n",
    "##Replace each element in a list with its square\n",
    "#from random import randint\n",
    "#L=[]\n",
    "#for i in range (20):\n",
    "#    L.append(randint(1,20))\n",
    "#print(L)\n",
    "#for i in range(len(L)):\n",
    "#    L[i]=L[i]**2\n",
    "#print(L)\n",
    "#for i in range (len(L)):\n",
    "#    L[i]=L[i]**2*L[i]\n",
    "#print(L)\n",
    "\n",
    "#out=[3, 6, 17, 6, 16, 1, 20, 16, 1, 7, 17, 16, 18, 2, 4, 9, 18, 20, 2, 14]\n",
    "#    [9, 36, 289, 36, 256, 1, 400, 256, 1, 49, 289, 256, 324, 4, 16, 81, 324, 400, 4, 196]\n",
    "#    [729, 46656, 24137569, 46656, 16777216, 1, 64000000, 16777216, 1, 117649, 24137569, 16777216, \n",
    "#        34012224, 64, 4096, 531441, 34012224, 64000000, 64, 7529536]\n",
    "\n",
    "\n",
    "                                                 ###$$$\n",
    "    \n",
    "    \n",
    "        # Count how many items in a list are greater than say 50\n",
    "\n",
    "#from random import randint\n",
    "#L=[]\n",
    "#for i in range (20):\n",
    "#    L.append(randint(20,100))\n",
    "#print(L)\n",
    "#count=0\n",
    "#for item in L:\n",
    "#   if item>50:\n",
    "#        count=count+1\n",
    "#print (count)\n",
    "#out=[78, 82, 71, 74, 63, 86, 60, 25, 68, 25, 51, 85, 27, 100, 71, 62, 46, 76, 84, 83]\n",
    "#     16 \n",
    "\n",
    "\n",
    "                                                    ###$$$\n",
    "    \n",
    "      #Given a list L that contains numbers between 1 and 100, create a new list whose first\n",
    "       #element is how many ones are in L, whose second element is how many twos are in L\n",
    "#from random import randint\n",
    "#L=[]\n",
    "#for i in range (100):\n",
    "#    L.append(randint(1,101))\n",
    "#print(L)\n",
    "#frequencies=[]\n",
    "#for i in range(1,101):\n",
    "#    frequencies.append(L.count(i))\n",
    "#print(frequencies)\n",
    "#out=[78, 53, 2, 32, 79, 21, 1, 55, 85, 73, 85, 79, 31, 35, 17, 99,\n",
    "#33, 35, 51, 27, 101, 55, 26, 19, 30, 42, 20, 7, 61, 51, 75, 82, 92, 73, 73, 15, \n",
    "#23, 42, 10, 11, 98, 27, 97, 58, 38, 54, 76, 56, 51, 26, 66, 19, 89, 30, 86, 13, 13, 41, 71, 19, 72,\n",
    "#31, 67, 3, 18, 12, 40, 67, 10, 33, 40, 40, 12, 31, 56, 8, 24, 50, 39, 82, 66, 22, 63, 18, 26, 19, 46, 1, \n",
    "#12, 76, 56, 13, 70, 49, 101, 90, 47, 100, 88, 79]\n",
    "#[2, 1, 1, 0, 0, 0, 1, 1, 0, 2, 1, 3, 3, 0, 1, 0, 1, 2, 4, 1, 1, 1, 1, 1, 0, 3, 2, 0, 0, 2, 3,\n",
    " #1, 2, 0, 2, 0, 0, 1, 1, 3, 1, 2, 0, 0, 0, 1, 1, 0, 1, 1, 3, 0, 1, 1, 2, 3, 0, 1, 0, 0, 1, 0, 1, 0, 0, 2, 2, 0, 0, 1,\n",
    " #1, 1, 3, 0, 1, 2, 0, 1, 3, 0, 0, 2, 0, 0, 2, 1, 0, 1, 1, 1, 0, 1, 0, 0, 0, 0, 1, 1, 1, 1]\n",
    "\n",
    "                                                    ###$$$\n",
    "    \n",
    "            # Sort funct or opertion is used to keep smaalest at the begining and largest at the end\n",
    "      #Write a program that prints out the two largest and two smallest elements of a list called scores.\n",
    "#from random import randint\n",
    "#M=[]\n",
    "#for i in range (30):\n",
    "#    M.append(randint(30,90))\n",
    "#print(M)\n",
    "#M.sort()\n",
    "#print(M)\n",
    "#print('Two smallest: ', M[0], M[1])\n",
    "#print('Two largest: ', M[-1], M[-2])\n",
    "#[58, 86, 61, 78, 31, 62, 60, 89, 40, 47, 67, 71, 77, 39, 75, 38, 37, 70, 71, 80, 80, 73, 31, 56, 77, 55, 79, 73, 68, 51]\n",
    "#[31, 31, 37, 38, 39, 40, 47, 51, 55, 56, 58, 60, 61, 62, 67, 68, 70, 71, 71, 73, 73, 75, 77, 77, 78, 79, 80, 80, 86, 89]\n",
    "#Two smallest:  31 31\n",
    "#Two largest:  89 86\n",
    "\n",
    "                                                        ###$$$\n",
    "    \n",
    "#num_right = 0\n",
    "# Question 1\n",
    "#print('What is the capital of France?', end=' ')\n",
    "#guess = input()\n",
    "#if guess.lower()=='paris':\n",
    "#   print('Correct!')\n",
    "#    num_right+=1\n",
    "#else:\n",
    "#    print('Wrong. The answer is Paris.')\n",
    "#    print('You have', num_right, 'out of 1 right')\n",
    "#Question 2\n",
    "#print('Which state has only one neighbor?', end=' ')\n",
    "#guess = input()\n",
    "#if guess.lower()=='maine':\n",
    "#    print('Correct!')\n",
    "#    num_right+=1\n",
    "#else:\n",
    "#    print('Wrong. The answer is Maine.')\n",
    "#    print('You have', num_right, 'out of 2 right,')\n",
    "\n",
    "                                                      ###$$$ Alternative\n",
    "    \n",
    "#answers = ['Paris','Maine']\n",
    "#num_right = 0\n",
    "#for i in range(len(questions)):\n",
    "#    guess = input(questions[i])  # This will be entertained as many times as there are elements in (len(questions)).\n",
    "#    if guess.lower()==answers[i].lower(): #  x.lower( means to make operations in oredr ascending )\n",
    "#        print('Correct')\n",
    "#        num_right=num_right+1\n",
    "#    else:                      #else is also called into operation as many times as len(questions) due to for loop\n",
    "#        print('Wrong. The answer is', answers[i])\n",
    "#    print('You have', num_right, 'out of', i+1, 'right.')\n",
    "\n",
    "                                                        ###$$$\n",
    "    \n"
   ]
  },
  {
   "cell_type": "markdown",
   "metadata": {},
   "source": [
    "# More with Lists"
   ]
  },
  {
   "cell_type": "code",
   "execution_count": 5,
   "metadata": {},
   "outputs": [],
   "source": [
    "from random import randint\n",
    "L=[]\n",
    "for i in range (5,55):\n",
    "    L.append(i)\n",
    "#print(L)\n",
    "#out=[5, 6, 7, 8, 9, 10, 11, 12, 13, 14, 15, 16, 17, 18, 19, 20, 21, 22, 23, 24, 25, 26, 27, 28, 29,\n",
    "#30, 31, 32, 33, 34, 35, 36, 37, 38, 39, 40, 41, 42, 43, 44, 45, 46, 47, 48, 49, 50, 51, 52, 53, 54]\n",
    "\n",
    "                                        ###$$$\n",
    "\n",
    "         # choice(L) picks a random item from L and works as follows \n",
    "#from random import choice\n",
    "# list L is already generated\n",
    "#M=choice(L)\n",
    "#print(M)  # out = 11 (for example)\n",
    "\n",
    "                                        ###$$$\n",
    "\n",
    "        #sample(L,n)  picks a group of n random items from L\n",
    "#from random import sample\n",
    "#N=sample (L,10)\n",
    "#print(N)   # out= [21, 6, 16, 39, 17, 23, 41, 25, 51, 7]\n",
    " # The sample function is similar to choice. Whereas choice picks one item from alist, sample can be used to pick several\n",
    "    \n",
    "                                        ###$$$\n",
    "\n",
    "    #The choice function also works with strings, picking a random character from a \n",
    "    #string. Here is an example that uses choice to fill the screen with a bunch of random characters.\n",
    "#from random import choice\n",
    "#t='abcdefghijklmnopqrstuvwxyz123456789!@#$%^&*'  # t is a string\n",
    "#q=choice(t)\n",
    "#print(q)   #out=i\n",
    "\n",
    "                                        ###$$$\n",
    "#from random import choice\n",
    "#c='abcdefghijklmnopqrstuvwxyz123456789!@#$%^&*'\n",
    "#for i in range (10000):\n",
    "    #print(choice(c), end=' ') #out= 10000 different chacaters from 'c'. \n",
    "    #end ' ', is used to insert space b/w charcaters from output\n",
    "    \n",
    "                                        ###$$$\n",
    "        \n",
    "#Here is a nice use of shuffle to pick a random ordering of players in a game.\n",
    "                     #shuffle(L) Shuffles the items of L\n",
    "#from random import shuffle\n",
    "#players= ['ram','sham','kam','nam','tom','jerry','dogie','dogi ka bacha']\n",
    "#shuffle(players)\n",
    "#print(players)\n",
    "#out=['nam', 'sham', 'jerry', 'dogie', 'ram', 'dogi ka bacha', 'kam', 'tom']\n",
    "\n",
    "#for p in players:\n",
    "#    print (p,'it is your turn ... common Boy!!! ')\n",
    "# out \n",
    "#['sham', 'jerry', 'ram', 'dogi ka bacha', 'tom', 'nam', 'kam', 'dogie']\n",
    "#sham it is your turn ... common Boy!!! \n",
    "#jerry it is your turn ... common Boy!!! \n",
    "#ram it is your turn ... common Boy!!! \n",
    "#dogi ka bacha it is your turn ... common Boy!!! \n",
    "#tom it is your turn ... common Boy!!! \n",
    "#nam it is your turn ... common Boy!!! \n",
    "#kam it is your turn ... common Boy!!! \n",
    "#dogie it is your turn ... common Boy!!! \n",
    "\n",
    "                                   \n",
    "                                            ###$$$\n",
    "    \n",
    "   ###$$$ Here we use shuffle divide a group of people into teams of two. Assume we are given a list called names.\n",
    "#from random import shuffle\n",
    "#names= ['nam', 'sham', 'jerry', 'dogie', 'ram', 'dogi ka bacha', 'kam', 'tom', 'tom ki mom' , 'chui', 'pui' , 'sui', \n",
    "#' whui' , 'puioi', 'suhail sb' , 'tawheed sb' , 'mubashir sb' ]\n",
    "#shuffle(names)\n",
    "#teams = []\n",
    "#for i in range(0,len(names),2):\n",
    "#    #teams.append([names[i], names[i+1]]) #out= IndexError: list index out of range\n",
    "#    teams.append([names[i], names[i-2]])\n",
    "    #out= [['pui', 'jerry'], ['dogi ka bacha', 'pui'], ['kam', 'dogi ka bacha'], ['chui', 'kam'], \n",
    "    #['suhail sb', 'chui'], ['nam', 'suhail sb'], ['ram', 'nam'], ['sham', 'ram'], ['tom ki mom', 'sham']]\n",
    "#print(teams)\n",
    "#out= [['tom ki mom', 'ram'], ['puioi', 'tom ki mom'], ['pui', 'puioi'], \n",
    "#['mubashir sb', 'pui'], ['nam', 'mubashir sb'], ['dogie', 'nam'], ['jerry', 'dogie'], ['sham', 'jerry'], ['chui', 'sham']]\n",
    "\n",
    "\n",
    "                                               ###$$$\n",
    "                                             # SPLIT\n",
    "#The split method returns a list of the words of a string. The method assumes that words are separated by whitespace, \n",
    "#which can be either spaces, tabs or newline characters    \n",
    "\n",
    "#s='What is your name? What is your fathers name? I oredr you to tell me!!!'\n",
    "#x=s.split()\n",
    "#print(x)    # Here puncuation is part of the word but can be removed as well. \n",
    "#out=['What', 'is', 'your', 'name?', 'What', 'is', 'your', 'fathers', 'name?', 'I', 'oredr', 'you', 'to', 'tell', 'me!!!']\n",
    "\n",
    "                                               ###$$$\n",
    "    \n",
    "    #removing punctuation , splitting and making the string come out in lower case\n",
    "\n",
    "#from string import punctuation\n",
    "#s='What is your name? What is your fathers name? I oredr you to tell me!!!'\n",
    "#for c in punctuation:\n",
    "#    s=s.replace(c, ' ')      #  if we put x=s.replace(c, ' ') and then call print (x), removing puncuation doesnot work\n",
    "#y=s.lower()                  # it has to be s=s.replace(c, '') and lower means lower case\n",
    "#z=s.split()\n",
    "#word=input('Enter a Word--    ')\n",
    "#print(y)\n",
    "#print(z)\n",
    "#print(word, 'appears', y.count(word), 'times')\n",
    "#out=what is your name  what is your fathers name  i oredr you to tell me   \n",
    "#['What', 'is', 'your', 'name', 'What', 'is', 'your', 'fathers', 'name', 'I', 'oredr', 'you', 'to', 'tell', 'me']\n",
    "#name appears 2 times\n",
    "\n",
    "\n",
    "                                                  ###$$$\n",
    "                                 \n",
    "                               # optional arguemsnt in spliting\n",
    "# Optional argument The split method takes an optional argument that allows it to break the \n",
    "#string at places other than spaces\n",
    " \n",
    "#s='12-234-9786746-34787-393-003-320'\n",
    "#s=s.split('-')\n",
    "#print(s)\n",
    "#out=['12', '234', '9786746', '34787', '393', '003', '320']\n",
    "\n",
    "                                                    ###$$$(join)\n",
    "    \n",
    "    \n",
    "#The join method is in some sense the opposite of split. It is a string method that takes a list\n",
    "#of strings and joins them together into a single string\n",
    "\n",
    "#L=['what','are','you','doing','man','and','How','are','you','?']\n",
    "#''.join(L)       #out='whatareyoudoingmanandHowareyou?'\n",
    "#' '.join(L)       #out= 'what are you doing man and How are you ?'\n",
    "#','.join(L)       #out='what,are,you,doing,man,and,How,are,you,?'\n",
    "#'**'.join(L)      #OUT='what**are**you**doing**man**and**How**are**you**?'\n",
    "\n",
    "\n",
    "\n",
    "                                              ######$$$$$$\n",
    "    \n",
    "#Write a program that creates an anagram of a given word. An anagram of a word uses\n",
    "#the same letters as the word but in a different order. For instance, two anagrams of the word there\n",
    "#are three and ether. Don’t worry about whether the anagram is a real word or not.\n",
    "#This sounds like something we could use shuffle for, but shuffle only works with lists. What\n",
    "#we need to do is convert our string into a list, use shuffle on it, and then convert the list back into\n",
    "#a string. To turn a string s into a list, we can use list(s). (See Section 10.1.) To turn the list back\n",
    "#into a string, we will use join.\n",
    "\n",
    "\n",
    "\n",
    "#from random import shuffle # Shuffle works only with lists\n",
    "#s=input(' Enter your word    ') #input =threew\n",
    "#L=list(s)                       #out= ['t', 'h', 'r', 'e', 'e', 'w']\n",
    "#print(L)\n",
    "#shuffle(L)\n",
    "#anagram=''.join(L)\n",
    "#print(anagram)\n",
    "#out=Enter your word    fevicol\n",
    "#feoilcv\n",
    "\n",
    "#note: \n",
    "#The split method returns a list of the words of a string. \n",
    "#The join method is in some sense the opposite of split. #It is a string method that takes a list of strings and\n",
    "#joins them together into a single string.\n",
    "#list(x) makes a list of characters of a string."
   ]
  },
  {
   "cell_type": "markdown",
   "metadata": {},
   "source": [
    "# List Comprehension"
   ]
  },
  {
   "cell_type": "code",
   "execution_count": 1,
   "metadata": {},
   "outputs": [],
   "source": [
    "#List comprehensions are a powerful way to create lists. Here is a simple example:\n",
    "L = [i for i in range(5)]\n",
    "#This creates the list [0,1,2,3,4]."
   ]
  },
  {
   "cell_type": "code",
   "execution_count": 10,
   "metadata": {
    "scrolled": true
   },
   "outputs": [
    {
     "data": {
      "text/plain": [
       "[1, 5, 9]"
      ]
     },
     "execution_count": 10,
     "metadata": {},
     "output_type": "execute_result"
    }
   ],
   "source": [
    "string = 'Hello'\n",
    "L = [1,14,5,9,12]\n",
    "M = ['one', 'two', 'three', 'four', 'five', 'six']\n",
    "\n",
    "                                        ####$$$$\n",
    "\n",
    "#[0 for i in range (10)]\n",
    "# [0, 0, 0, 0, 0, 0, 0, 0, 0, 0]\n",
    "#out=[0, 0, 0, 0, 0, 0, 0, 0, 0, 0]\n",
    "\n",
    "                                        ####$$$$\n",
    "#[i**2 for i in range (1,8)]\n",
    "#out=[1, 4, 9, 16, 25, 36, 49]\n",
    "\n",
    "                                        ####$$$$\n",
    "#[c*2 for c in string]\n",
    "#out=['HH', 'ee', 'll', 'll', 'oo']\n",
    "\n",
    "                                        ####$$$$\n",
    "\n",
    "#[m[0] for m in M]\n",
    "#out=['o', 't', 't', 'f', 'f', 's']\n",
    "\n",
    "                                        ####$$$$\n",
    "\n",
    "#[i for i in L if i<10]\n",
    "#out=[1, 5, 9]\n",
    "\n",
    "                                        ####$$$$\n",
    "    \n",
    "#[m[0] for m in M if len(M)==3]\n",
    "#out= ['o','t', 's']\n",
    "\n",
    "\n",
    "                                        ####$$$$\n",
    "    \n"
   ]
  },
  {
   "cell_type": "markdown",
   "metadata": {},
   "source": [
    "# Centroid under a complex analytic function "
   ]
  },
  {
   "cell_type": "code",
   "execution_count": 1,
   "metadata": {},
   "outputs": [
    {
     "data": {
      "image/png": "[encoded data removed]",
      "text/plain": [
       "<Figure size 432x288 with 1 Axes>"
      ]
     },
     "metadata": {
      "needs_background": "light"
     },
     "output_type": "display_data"
    }
   ],
   "source": [
    "import numpy as np\n",
    "import matplotlib.pyplot as plt\n",
    "import cmath \n",
    "from random import uniform\n",
    "def fpoints(n):\n",
    "    points_list=[]\n",
    "    for i in range(n):\n",
    "       \n",
    "        r=uniform(0,1)\n",
    "        t=uniform(0,2*np.pi)\n",
    "        x=np.sqrt(r)*np.cos(t)\n",
    "        y=np.sqrt(r)*np.sin(t)\n",
    "        p=(x,y)\n",
    "        points_list.append(p)\n",
    "    return(points_list)\n",
    "def c(u):\n",
    "    z=complex(u[0],u[1])\n",
    "    return(z)\n",
    "\n",
    "w_list=[]\n",
    "n=1000\n",
    "for i in range(100):\n",
    "    L=fpoints(n)\n",
    "    CL=[c(L[i])for i in range (n)]\n",
    "    funcvalues= [np.cos(CL[i]) for i in range(n)]\n",
    "    w=sum(funcvalues)/len(funcvalues)\n",
    "    w_list.append(w)\n",
    "#print(w_list)  \n",
    "\n",
    "mod_list=[abs(w_list[i]) for i in range (100)]\n",
    "#print(mod_list)\n",
    "for i in range(100):\n",
    "    plt.scatter(w_list[i].real,w_list[i].imag,s=5)"
   ]
  },
  {
   "cell_type": "markdown",
   "metadata": {},
   "source": [
    "# Using List Comprehension"
   ]
  },
  {
   "cell_type": "markdown",
   "metadata": {},
   "source": [
    "#Write a program that generates a list L of 50 random numbers between 1 and 100."
   ]
  },
  {
   "cell_type": "code",
   "execution_count": 15,
   "metadata": {},
   "outputs": [],
   "source": [
    "from random import randint\n",
    "L = [randint(1,100) for i in range(50)]\n",
    "#print(L)\n",
    "# out= [37, 16, 23, 31, 20, 47, 7, 8, 29, 18, 5, 51, 96, 88, 44, 41, 2, 33, 76, 47, 86, 97, 21, 62, 10, 65, 15, 26, 38, 22, 11, 57, 56, 83, 10,\n",
    "#26, 14, 76, 17, 39, 21, 54, 61, 23, 11, 44, 34, 27, 26, 88]"
   ]
  },
  {
   "cell_type": "markdown",
   "metadata": {},
   "source": [
    "Replace each element in a list L with its square"
   ]
  },
  {
   "cell_type": "code",
   "execution_count": 18,
   "metadata": {},
   "outputs": [],
   "source": [
    "L=[i**2 for i in range(1,8)]\n",
    "print(L)\n"
   ]
  },
  {
   "cell_type": "markdown",
   "metadata": {},
   "source": [
    "Count how many items in a list L are greater than 50."
   ]
  },
  {
   "cell_type": "code",
   "execution_count": 41,
   "metadata": {},
   "outputs": [],
   "source": [
    "L=[randint(1,100) for i in range(50)]\n",
    "\n",
    "x=len([i for i in L if i>50])\n",
    "print(x)"
   ]
  },
  {
   "cell_type": "markdown",
   "metadata": {},
   "source": [
    "Given a list L that contains numbers between 1 and 100, create a new list whose first\n",
    "element is how many ones are in L, whose second element is how many twos are in L, etc"
   ]
  },
  {
   "cell_type": "code",
   "execution_count": 4,
   "metadata": {},
   "outputs": [],
   "source": [
    "L=[i for i in range(1,100)]\n",
    "#print(L)\n",
    "J=[L.count(i) for i  in range(1,101)]\n",
    "#print(J)"
   ]
  },
  {
   "cell_type": "markdown",
   "metadata": {},
   "source": [
    "Multiple fors You can use more than one for in a list comprehension:"
   ]
  },
  {
   "cell_type": "code",
   "execution_count": 10,
   "metadata": {},
   "outputs": [],
   "source": [
    "L = [[i,j] for i in range(4) for j in range(4)]\n",
    "#print(L)"
   ]
  },
  {
   "cell_type": "markdown",
   "metadata": {},
   "source": [
    "List comprehension along with join and choice.Here we create a string that contains a random assortment of 1000 letters."
   ]
  },
  {
   "cell_type": "code",
   "execution_count": 16,
   "metadata": {},
   "outputs": [],
   "source": [
    "from random import choice\n",
    "alphabet='abcdefghijklmnopqrstuvwxyz'\n",
    "s=''.join([choice(alphabet) for i in range(1000)])\n",
    "#print(s)"
   ]
  },
  {
   "cell_type": "markdown",
   "metadata": {},
   "source": [
    "Flip the order of the entries in the list whose elements are lists of size 2."
   ]
  },
  {
   "cell_type": "code",
   "execution_count": 18,
   "metadata": {},
   "outputs": [],
   "source": [
    "L=[[3,4], [5,6],[9,3],[10,-1],[0,78]]\n",
    "M=[[y,x] for x,y in L]\n",
    "#print(M)\n"
   ]
  },
  {
   "cell_type": "markdown",
   "metadata": {},
   "source": [
    "# Two-dimensional lists"
   ]
  },
  {
   "cell_type": "raw",
   "metadata": {},
   "source": [
    "# An example of a two dimensional list is \n",
    "L = [[1,2,3],\n",
    "     [4,5,6],\n",
    "     [7,8,9]]        # It is a list of lists.\n",
    "# Indexing We use two indices to access individual items. To get the entry in row r, column c, use the following:\n",
    "L[1][3]\n",
    "# Another option is to use the pprint function of the pprint module\n",
    "from pprint import pprint\n",
    "pprint(L)\n",
    "\n",
    "# Creating large two-dimensional lists To create a larger list, you can use a list comprehension like below:\n",
    "L = [[0]*50 for i in range(100)]\n",
    "This creates a list of zeroes with 100 rows and 50 columns.\n",
    "\n",
    "\n",
    "# Picking out rows and columns To get the rth row of L, use the following:\n",
    "L[r]\n",
    "To get the cth column of L, use a list comprehension:\n",
    "[L[i][c] for i in range(len(L))]\n",
    "\n",
    "\n",
    "### Flattening a list To flatten a two-dimensional list, that is, return a one-dimensional list of its\n",
    "elements, use the following:\n",
    "[j for M in L for j in M]\n",
    "For instance, suppose we have the following list:\n",
    "L = [[1,2,3],\n",
    "[4,5,6],\n",
    "[7,8,9]]\n",
    "The flattened list will be:\n",
    "[1, 2, 3, 4, 5, 6, 7, 8, 9]\n",
    "\n",
    "\n",
    "\n",
    "### Higher dimensions Creating and using 3-dimensional and higher lists is similar. Here we create\n",
    "a 5 × 5 × 5 list:\n",
    "L = [[[0]*5 for i in range(5)] for j in range(5)]\n",
    "It is a list whose items are lists of lists. The first entry in the list is\n",
    "L[0][0][0]"
   ]
  },
  {
   "cell_type": "code",
   "execution_count": 1,
   "metadata": {},
   "outputs": [
    {
     "data": {
      "text/plain": [
       "7"
      ]
     },
     "execution_count": 1,
     "metadata": {},
     "output_type": "execute_result"
    }
   ],
   "source": [
    "L=[[1,2,3],[4,5,6],[7,8,9]]\n",
    "L[1]\n",
    "#out=[4, 5, 6]\n",
    "L[2]\n",
    "#out=[7, 8, 9]\n",
    "L[1][2]\n",
    "#out =6  (element at index one then element at index 2\n",
    "L[2][0]\n",
    "#out=7 ( element at index 2 then element at index 0)"
   ]
  },
  {
   "cell_type": "code",
   "execution_count": 4,
   "metadata": {},
   "outputs": [
    {
     "data": {
      "text/plain": [
       "6"
      ]
     },
     "execution_count": 4,
     "metadata": {},
     "output_type": "execute_result"
    }
   ],
   "source": [
    "L=[[1,2,3],\n",
    "  [4,5,6],\n",
    "  [7,8,9]]\n",
    "L[1][2]"
   ]
  },
  {
   "cell_type": "markdown",
   "metadata": {},
   "source": [
    "# While Loops "
   ]
  },
  {
   "cell_type": "markdown",
   "metadata": {},
   "source": [
    "We have already learned about for loops, which allow us to repeat things a specified number of\n",
    "times. Sometimes, though, we need to repeat something, but we don’t know ahead of time exactly\n",
    "how many times it has to be repeated. For instance, a game of Tic-tac-toe keeps going until someone\n",
    "wins or there are no more moves to be made, so the number of turns will vary from game to game.\n",
    "This is a situation that would call for a while loop."
   ]
  },
  {
   "cell_type": "code",
   "execution_count": null,
   "metadata": {},
   "outputs": [],
   "source": [
    "temp = 0 # this initiates a vriable and can be set to any value to get it initiated but not -1000.\n",
    "while temp!=-1000:  # the foloowing indented lines will be contionuously executed till -1000\n",
    "    temp = eval(input('Enter a temperature (-1000 to quit): '))\n",
    "    if temp!=-1000: # it has to be indented as we want always a prompt till -1000\n",
    "         print('In Fahrenheit that is', 9/5*temp+32)\n",
    "else:\n",
    "    print('Bye!')"
   ]
  },
  {
   "cell_type": "code",
   "execution_count": null,
   "metadata": {},
   "outputs": [],
   "source": [
    "from random import randint\n",
    "secret_num = randint(1,10)\n",
    "guess = 0  #again initiating a variable for while loop.We require the line guess=0\n",
    "#prior to the while loop so that the first time the program reaches the loop, there is something in\n",
    "#guess for the program to use in the comparison. The exact value of guess doesn’t really matter\n",
    "#at this point. We just want something that is guaranteed to be different than secret_num\n",
    "while guess != secret_num: #The condition guess!=secret_num says that as long as the current guess is not correct,\n",
    "#we will keep looping\n",
    "    guess = eval(input('Guess the secret number: '))  # INTENDING THIS MEANS WE WILL GET THE PROMPT\n",
    "    #TILL GUESS IS NOT MADE RIGHT\n",
    "print('You finally got it!')\n"
   ]
  },
  {
   "cell_type": "markdown",
   "metadata": {},
   "source": [
    "We can use a while loop to mimic a for loop, as shown below. Both loops have the\n",
    "exact same effect."
   ]
  },
  {
   "cell_type": "code",
   "execution_count": null,
   "metadata": {},
   "outputs": [],
   "source": [
    "# for i in range(10):\n",
    "  #  print(i)\n",
    "    \n",
    "    #or\n",
    "    \n",
    "i=0\n",
    "while i<10:\n",
    "   # print(i) \n",
    "    #i=i+1  # without this it continuiously prints 0\n",
    "# i=i+1  #"
   ]
  },
  {
   "cell_type": "markdown",
   "metadata": {},
   "source": [
    "converts from Fahrenheit to Celsius."
   ]
  },
  {
   "cell_type": "code",
   "execution_count": 3,
   "metadata": {},
   "outputs": [
    {
     "name": "stdout",
     "output_type": "stream",
     "text": [
      "Enter a temperature in Celsius: 50\n",
      "In Fahrenheit, that is 122.0\n"
     ]
    }
   ],
   "source": [
    "temp = eval(input('Enter a temperature in Celsius: '))\n",
    "print('In Fahrenheit, that is', 9/5*temp+32)"
   ]
  },
  {
   "cell_type": "code",
   "execution_count": null,
   "metadata": {},
   "outputs": [],
   "source": [
    "temp = eval(input('Enter a temperature in Celsius: '))\n",
    "if temp<-273.15:\n",
    "    print('That temperature is not possible.')\n",
    "else:\n",
    "    print('In Fahrenheit, that is', 9/5*temp+32)"
   ]
  },
  {
   "cell_type": "code",
   "execution_count": null,
   "metadata": {},
   "outputs": [],
   "source": [
    "temp = eval(input('Enter a temperature in Celsius: '))\n",
    "while temp<-273.15:\n",
    "    temp = eval(input('Impossible. Enter a valid temperature: '))\n",
    "print('In Fahrenheit, that is', 9/5*temp+32)\n"
   ]
  },
  {
   "cell_type": "markdown",
   "metadata": {},
   "source": [
    "One way to do so is to pretend to be the Python interpreter and go through the code line by line. The variable i gets set to 0 to start. Next, the program tests the condition on the while loop. Because\n",
    "i is 0, which is less than 50, the code indented under the while statement will get executed. This\n",
    "code prints the current value of i and then executes the statement i=i+2 which adds 2 to i.\n",
    "The variable i is now 2 and the program loops back to the while statement. It checks to see if i is\n",
    "less than 50, and since i is 2, which is less than 50, the indented code should be executed again. So\n",
    "we print i again, add 2 to it, and then loop back to check the while loop condition again. We keep\n",
    "doing this until finally i gets to 50.\n",
    "At this point, the while condition will finally not be true anymore and the program jumps down\n",
    "to the first statement after the while, which prints Bye!. The end result of the program is the\n",
    "numbers 0, 2, 4, . . . , 48 followed by the message, Bye!.\n"
   ]
  },
  {
   "cell_type": "code",
   "execution_count": null,
   "metadata": {},
   "outputs": [],
   "source": [
    "i = 0\n",
    "while i<50:\n",
    "    #print(i)\n",
    "    #i=i+2\n",
    "#print('Bye!')"
   ]
  },
  {
   "cell_type": "markdown",
   "metadata": {},
   "source": [
    "Infinite loops\n"
   ]
  },
  {
   "cell_type": "code",
   "execution_count": null,
   "metadata": {},
   "outputs": [],
   "source": [
    "i=0\n",
    "while i<10:\n",
    "    print(i)\n",
    "    # only zeroes"
   ]
  },
  {
   "cell_type": "markdown",
   "metadata": {},
   "source": [
    "# The break statement"
   ]
  },
  {
   "cell_type": "code",
   "execution_count": null,
   "metadata": {},
   "outputs": [],
   "source": [
    "for i in range(10):\n",
    "    num = eval(input('Enter number: '))\n",
    "    if num<0:\n",
    "        break"
   ]
  },
  {
   "cell_type": "markdown",
   "metadata": {},
   "source": [
    "A different Way with while loop"
   ]
  },
  {
   "cell_type": "code",
   "execution_count": null,
   "metadata": {},
   "outputs": [],
   "source": [
    "i=0\n",
    "num=1\n",
    "while i<10 and num>0:\n",
    " num = eval(input('Enter a number: '))\n"
   ]
  },
  {
   "cell_type": "markdown",
   "metadata": {},
   "source": [
    "Earlier in the chapter, we used a while loop to allow the user to repeatedly enter\n",
    "temperatures to be converted. Here is, more or less, the original version on the left compared with\n",
    "a different approach using the break statement.\n"
   ]
  },
  {
   "cell_type": "code",
   "execution_count": null,
   "metadata": {},
   "outputs": [],
   "source": [
    "temp=0\n",
    "while temp!=-1000:\n",
    "    temp=eval(input(': ' ))\n",
    "    if temp==-1000:\n",
    "        print(9/5*temp+32)\n",
    "    else:\n",
    "        print('Bye')\n",
    "    "
   ]
  },
  {
   "cell_type": "code",
   "execution_count": null,
   "metadata": {},
   "outputs": [],
   "source": [
    "while True: \n",
    "    temp=eval(input(': '))\n",
    "    if temp==-1000:\n",
    "        print('Bye')\n",
    "        break\n",
    "    print(9/5*temp+32)"
   ]
  },
  {
   "cell_type": "markdown",
   "metadata": {},
   "source": [
    "The else statement.\n",
    "\n",
    "There is an optional else that you can use with break statements. The code indented under the\n",
    "else gets executed only if the loop completes without a break happening"
   ]
  },
  {
   "cell_type": "code",
   "execution_count": null,
   "metadata": {},
   "outputs": [],
   "source": [
    "for i in range(10):\n",
    "    num = eval(input('Enter number: '))\n",
    "    if num<0:\n",
    "        print('Stopped early')\n",
    "        break\n",
    "else:\n",
    "    print('User entered all ten values')"
   ]
  },
  {
   "cell_type": "markdown",
   "metadata": {},
   "source": [
    "Here are two ways to check if an integer num is prime. A prime number is a number\n",
    "whose only divisors are 1 and itself. The first approach  uses a while loop, while the 2nd approach\n",
    " uses a for/break loop:\n"
   ]
  },
  {
   "cell_type": "markdown",
   "metadata": {},
   "source": [
    "The idea behind both approaches is to scan through all the integers between 2 and num-1, and if\n",
    "any of them is a divisor, then we know num is not prime. To see if a value i is a divisor of num, we\n",
    "just have to check to see if num%i is 0.\n",
    "The idea of the while loop version is we continue looping as long as we haven’t found a divisor. If\n",
    "we get all the way through the loop without finding a divisor, then i will equal num, and in that\n",
    "case the number must be prime"
   ]
  },
  {
   "cell_type": "code",
   "execution_count": 11,
   "metadata": {},
   "outputs": [
    {
     "name": "stdout",
     "output_type": "stream",
     "text": [
      " Please Enter Your Number:  7\n",
      "Prime\n"
     ]
    }
   ],
   "source": [
    "i=2\n",
    "num=eval(input(' Please Enter Your Number:  '))\n",
    "while i<num and num%i!=0:\n",
    "    i=i+1\n",
    "if i==num:\n",
    "    print('Prime')\n",
    "else:\n",
    "    print('Not Prime')"
   ]
  },
  {
   "cell_type": "markdown",
   "metadata": {},
   "source": [
    "#Guessing Game Nicely  Done"
   ]
  },
  {
   "cell_type": "code",
   "execution_count": null,
   "metadata": {},
   "outputs": [],
   "source": [
    "from random import randint\n",
    "secret_num = randint(1,100)\n",
    "num_guesses = 0\n",
    "guess = 0\n",
    "while guess != secret_num and num_guesses <= 4:\n",
    "    guess = eval(input('Enter your guess (1-100): '))\n",
    "    num_guesses = num_guesses + 1\n",
    "    if guess < secret_num:\n",
    "        print('HIGHER.', 5-num_guesses, 'guesses left.\\n')\n",
    "    elif guess > secret_num:\n",
    "        print('LOWER.', 5-num_guesses, 'guesses left.\\n')\n",
    "    else:\n",
    "        print('You got it!')\n",
    "if num_guesses==5 and guess != secret_num:\n",
    "    print('You lose. The correct number is', secret_num)\n"
   ]
  },
  {
   "cell_type": "markdown",
   "metadata": {},
   "source": [
    "# Miscellaneous Topics II"
   ]
  },
  {
   "cell_type": "markdown",
   "metadata": {},
   "source": [
    "The str, int, float, and list functions are used to convert one data type into another.\n"
   ]
  },
  {
   "cell_type": "code",
   "execution_count": 13,
   "metadata": {},
   "outputs": [],
   "source": [
    "# str is used to break a number and make a list out of it\n",
    "#str(256478) #out='256478'\n",
    "#str(3.14)  #out='3.14'\n",
    "#([1,2,3]) #out= '[1,2,3]'"
   ]
  },
  {
   "cell_type": "markdown",
   "metadata": {},
   "source": [
    "int and float The int function converts something into an integer. The float function converts something into a floating point number. Here are some examples.\n"
   ]
  },
  {
   "cell_type": "code",
   "execution_count": 17,
   "metadata": {},
   "outputs": [],
   "source": [
    "#Statement           #Result\n",
    "#int('37')           #  37\n",
    "#float('3.14')       # 3.14\n",
    "#int(3.14)           #  3"
   ]
  },
  {
   "cell_type": "markdown",
   "metadata": {},
   "source": [
    "list The list function takes something that can be converted into a list and makes into a list.\n",
    "\n",
    "Here are two uses of it."
   ]
  },
  {
   "cell_type": "code",
   "execution_count": 19,
   "metadata": {},
   "outputs": [
    {
     "data": {
      "text/plain": [
       "[0, 1, 2, 3, 4, 5, 6, 7, 8, 9]"
      ]
     },
     "execution_count": 19,
     "metadata": {},
     "output_type": "execute_result"
    }
   ],
   "source": [
    "list(range(10))\n",
    "# out = [0, 1, 2, 3, 4, 5, 6, 7, 8, 9]"
   ]
  },
  {
   "cell_type": "code",
   "execution_count": 20,
   "metadata": {},
   "outputs": [
    {
     "data": {
      "text/plain": [
       "['K', 'H', 'A', 'L', 'I', 'D']"
      ]
     },
     "execution_count": 20,
     "metadata": {},
     "output_type": "execute_result"
    }
   ],
   "source": [
    "list('KHALID')\n",
    "# out = ['K', 'H', 'A', 'L', 'I', 'D']"
   ]
  },
  {
   "cell_type": "markdown",
   "metadata": {},
   "source": [
    "Here is an example that finds all the palindromic numbers between 1 and 10000. A\n",
    "palindromic number is one that is the same backwards as forwards, like 1221 or 64546.\n"
   ]
  },
  {
   "cell_type": "code",
   "execution_count": 24,
   "metadata": {},
   "outputs": [],
   "source": [
    "#for i in range(1,10001):\n",
    "    #s = str(i)\n",
    "    #if s==s[::-1]:  # this is to set the number equal to its palindrome \n",
    "        #print(s)"
   ]
  },
  {
   "cell_type": "markdown",
   "metadata": {},
   "source": [
    "Here is an example that tells a person born on January 1, 1991 how old they are in\n",
    "2010"
   ]
  },
  {
   "cell_type": "code",
   "execution_count": 30,
   "metadata": {},
   "outputs": [],
   "source": [
    "birthday = 'May 2, 1994'\n",
    "year = int(birthday[-4:])\n",
    "#print('You are', 2022-year, 'years old.')\n",
    "#print(year)"
   ]
  },
  {
   "cell_type": "code",
   "execution_count": 34,
   "metadata": {},
   "outputs": [
    {
     "name": "stdout",
     "output_type": "stream",
     "text": [
      "18\n"
     ]
    }
   ],
   "source": [
    "#digit = str(num)\n",
    "#answer = int(digit[0]) + int(digit[1])\n",
    "number=str(99)\n",
    "answer=int(number[0]) + int(number[1])\n",
    "print(answer)"
   ]
  },
  {
   "cell_type": "markdown",
   "metadata": {},
   "source": [
    "Here is a version that\n",
    "handles numbers with arbitrarily many digits:\n"
   ]
  },
  {
   "cell_type": "code",
   "execution_count": 38,
   "metadata": {},
   "outputs": [
    {
     "name": "stdout",
     "output_type": "stream",
     "text": [
      "18\n"
     ]
    }
   ],
   "source": [
    "digits = str(12456)\n",
    "answer = 0\n",
    "for i in range(len(digits)):\n",
    "    answer = answer + int(digit[i])\n",
    "print(answer)"
   ]
  },
  {
   "cell_type": "code",
   "execution_count": 39,
   "metadata": {},
   "outputs": [
    {
     "name": "stdout",
     "output_type": "stream",
     "text": [
      "Tip: $5.90, Total: $29.50\n"
     ]
    }
   ],
   "source": [
    "bill = 23.60\n",
    "tip = 23.60*.25\n",
    "print('Tip: ${:.2f}, Total: ${:.2f}'.format(tip, bill+tip))"
   ]
  },
  {
   "cell_type": "markdown",
   "metadata": {},
   "source": [
    "Print a 10 × 10 multiplication table."
   ]
  },
  {
   "cell_type": "code",
   "execution_count": 56,
   "metadata": {},
   "outputs": [],
   "source": [
    "#for i in range(1,11):\n",
    "#    for j in range(1,11):\n",
    "#        print('{:3d}'.format(i*j), end=' ')\n",
    "#    print()"
   ]
  },
  {
   "cell_type": "markdown",
   "metadata": {},
   "source": [
    "2 A common math problem is to find the solutions to a system of equations. Sometimes\n",
    "you want to find only the integer solutions, and this can be a little tricky mathematically. However,\n",
    "we can write a program that does a brute force search for solutions. Here we find all the integer\n",
    "solutions (x, y) to the system 2x + 3y = 4, x − y = 7, where x and y are both between -50 and 50"
   ]
  },
  {
   "cell_type": "code",
   "execution_count": 48,
   "metadata": {},
   "outputs": [
    {
     "name": "stdout",
     "output_type": "stream",
     "text": [
      "5 -2\n"
     ]
    }
   ],
   "source": [
    "for x in range(-50,51):\n",
    "    for y in range(-50,51):\n",
    "        if 2*x+3*y==4 and x-y==7:\n",
    "            print(x,y)\n"
   ]
  },
  {
   "cell_type": "markdown",
   "metadata": {},
   "source": [
    "A Pythagorean triple is a triple of numbers (x, y, z) such that x\n",
    "2 + y\n",
    "2 = z\n",
    "2\n",
    ". For instance\n",
    "(3, 4, 5) is a Pythagorean triple because 3\n",
    "2 + 4\n",
    "2 = 5\n",
    "2\n",
    ". Pythagorean triples correspond to triangles\n",
    "whose sides are all whole numbers (like a 3-4-5-triangle). Here is a program that finds all the\n",
    "Pythagorean triples (x, y, z) where x, y, and z are positive and less than 100."
   ]
  },
  {
   "cell_type": "code",
   "execution_count": 53,
   "metadata": {
    "scrolled": true
   },
   "outputs": [],
   "source": [
    "#for x in range(1,100):\n",
    "#    for y in range(1,100):\n",
    "#       for z in range(1,100):\n",
    "#            if x**2+y**2==z**2:\n",
    "#               print(x,y,z)"
   ]
  },
  {
   "cell_type": "markdown",
   "metadata": {},
   "source": [
    "As you look through the solutions, you might also notice that there are many solutions that are\n",
    "multiples of others, like (6, 8, 10), and (9, 12, 15) are multiples of (3, 4, 5). The following program\n",
    "finds only primitive Pythagorean triples, those that aren’t multiples of another triple. The way it\n",
    "does this is every time a new triple is found, it checks to make sure that x, y, and z are not all\n",
    "divisible by the same number."
   ]
  },
  {
   "cell_type": "code",
   "execution_count": 55,
   "metadata": {},
   "outputs": [],
   "source": [
    "#for x in range(1,100):\n",
    "#    for y in range(x,100):\n",
    "#        for z in range(y,100):\n",
    "#            if x**2+y**2==z**2:\n",
    "#                for i in range(2,x):\n",
    "#                    if x%i==0 and y%i==0 and z%i==0:\n",
    "#                        break\n",
    "#                    else:\n",
    "#                        print((x,y,z), end=' ')"
   ]
  },
  {
   "cell_type": "raw",
   "metadata": {},
   "source": [
    "A dictionary is a more general version of a list. Here is a list that contains the number of days in\n",
    "the months of the year:\n",
    "days = [31, 28, 31, 30, 31, 30, 31, 31, 30, 31, 30, 31]\n",
    "If we want the the number of days in January, use days[0]. December is days[11] or days[-1].\n",
    "Here is a dictionary of the days in the months of the year:\n",
    "days = {'January':31, 'February':28, 'March':31, 'April':30,\n",
    "'May':31, 'June':30, 'July':31, 'August':31,\n",
    "'September':30, 'October':31, 'November':30, 'December':31}\n",
    "To get the number of days in January, we use days['January']. One benefit of using dictionaries\n",
    "here is the code is more readable, and we don’t have to figure out which index in the list a given\n",
    "month is at. Dictionaries have a number of other uses, as well"
   ]
  },
  {
   "cell_type": "code",
   "execution_count": 72,
   "metadata": {},
   "outputs": [
    {
     "name": "stdout",
     "output_type": "stream",
     "text": [
      "{'A': 40, 'B': 60, 'D': 80}\n",
      "{'A': 40, 'B': 60, 'D': 80, 'C': 70}\n"
     ]
    }
   ],
   "source": [
    "d={'A':40 ,'B':60}\n",
    "#d['A'] # out= 40\n",
    "#d['B'] # out =60\n",
    "d['C'] =70\n",
    "# print(d)\n",
    "# out d={'A': 40, 'B': 60, 'C': 70}\n",
    "d['D']=80\n",
    "# out ={'A': 40, 'B': 60, 'C': 70, 'D': 80}\n",
    "#print(d)\n",
    "del d['C']\n",
    "#print(d)  \n",
    "# out = {'A': 40, 'B': 60, 'D': 80}\n",
    "d['C']=70\n",
    "#print(d)\n",
    "# out = {'A': 40, 'B': 60, 'D': 80, 'C': 70} ............  Note the change in the position of the 'C'\n",
    "\n",
    "\n",
    "#  Empty dictionary The empty dictionary is {}, which is the dictionary equivalent of [] for lists or '' for strings.\n"
   ]
  },
  {
   "cell_type": "code",
   "execution_count": null,
   "metadata": {},
   "outputs": [],
   "source": [
    "d ={'dog': 'is a beast that eats humans when it has rabies' ,\n",
    "    'cat': 'Says meow',\n",
    "   'mouse': ' IS chased by a Cat' }\n",
    "\n",
    "word = input('Enter a word: ')\n",
    "#print('The definition is:', d[word])"
   ]
  },
  {
   "cell_type": "markdown",
   "metadata": {},
   "source": [
    "A dictionary provides a nice way to represent a deck of cards:"
   ]
  },
  {
   "cell_type": "code",
   "execution_count": 2,
   "metadata": {},
   "outputs": [
    {
     "data": {
      "text/plain": [
       "'spades'"
      ]
     },
     "execution_count": 2,
     "metadata": {},
     "output_type": "execute_result"
    }
   ],
   "source": [
    "deck = [{'value':i, 'suit':c}\n",
    "    for c in ['spades', 'clubs', 'hearts', 'diamonds']\n",
    "    for i in range(2,15)]\n",
    "\n",
    "deck[2]['value']\n",
    "deck[2]['suit']\n"
   ]
  },
  {
   "cell_type": "code",
   "execution_count": null,
   "metadata": {},
   "outputs": [],
   "source": []
  }
 ],
 "metadata": {
  "interpreter": {
   "hash": "ad2bdc8ecc057115af97d19610ffacc2b4e99fae6737bb82f5d7fb13d2f2c186"
  },
  "kernelspec": {
   "display_name": "Python 3",
   "language": "python",
   "name": "python3"
  },
  "language_info": {
   "codemirror_mode": {
    "name": "ipython",
    "version": 3
   },
   "file_extension": ".py",
   "mimetype": "text/x-python",
   "name": "python",
   "nbconvert_exporter": "python",
   "pygments_lexer": "ipython3",
   "version": "3.8.5"
  }
 },
 "nbformat": 4,
 "nbformat_minor": 4
}
