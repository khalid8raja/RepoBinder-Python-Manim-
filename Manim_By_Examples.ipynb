{
  "nbformat": 4,
  "nbformat_minor": 0,
  "metadata": {
    "colab": {
      "name": "Manim By Examples.ipynb",
      "provenance": [],
      "collapsed_sections": [],
      "authorship_tag": "ABX9TyOo2ckX6iDLnXcq7wCkm0lN",
      "include_colab_link": true
    },
    "kernelspec": {
      "name": "python3",
      "display_name": "Python 3"
    },
    "language_info": {
      "name": "python"
    }
  },
  "cells": [
    {
      "cell_type": "markdown",
      "metadata": {
        "id": "view-in-github",
        "colab_type": "text"
      },
      "source": [
        "<a href=\"https://colab.research.google.com/github/khalid8raja/RepoBinder-Python-Manim-/blob/main/Manim_By_Examples.ipynb\" target=\"_parent\"><img src=\"https://colab.research.google.com/assets/colab-badge.svg\" alt=\"Open In Colab\"/></a>"
      ]
    },
    {
      "cell_type": "code",
      "execution_count": null,
      "metadata": {
        "id": "yMVAn85it0Sr"
      },
      "outputs": [],
      "source": [
        "!sudo apt update\n",
        "!sudo apt install libcairo2-dev ffmpeg \\\n",
        "    texlive texlive-latex-extra texlive-fonts-extra \\\n",
        "    texlive-latex-recommended texlive-science \\\n",
        "    tipa libpango1.0-dev\n",
        "!pip install manim\n",
        "!pip install IPython --upgrade"
      ]
    },
    {
      "cell_type": "code",
      "source": [
        "from manim import *"
      ],
      "metadata": {
        "id": "9kTnsirFvhJY"
      },
      "execution_count": null,
      "outputs": []
    },
    {
      "cell_type": "code",
      "source": [
        "%%manim -qm -v WARNING SquareToCircle\n",
        "\n",
        "class SquareToCircle(Scene):\n",
        "   def construct(self):\n",
        "      square = Square()\n",
        "      circle = Circle()\n",
        "      circle.set_fill(PINK, opacity=0.5)\n",
        "      self.play(Create(square))\n",
        "      self.play(Transform(square, circle))\n",
        "      self.wait()"
      ],
      "metadata": {
        "id": "Odw99uEpvl2S"
      },
      "execution_count": null,
      "outputs": []
    },
    {
      "cell_type": "code",
      "source": [
        "%%manim -qm -v WARNING SquareToCircle\n",
        "\n",
        "class SquareToCircle(Scene):\n",
        "    def construct(self):\n",
        "        circle = Circle()\n",
        "        square = Square()\n",
        "        square.flip(RIGHT)\n",
        "        square.rotate(-3 * TAU / 8)\n",
        "        circle.set_fill(PINK, opacity=0.5)\n",
        "\n",
        "        self.play(Create(square))\n",
        "        self.play(Transform(square, circle))\n",
        "        self.play(FadeOut(square))"
      ],
      "metadata": {
        "id": "AzD5ehQyvolt"
      },
      "execution_count": null,
      "outputs": []
    },
    {
      "cell_type": "code",
      "source": [
        "%%manim -qm -v WARNING WarpSquare\n",
        "\n",
        "class WarpSquare(Scene):\n",
        "    def construct(self):\n",
        "        square = Square()\n",
        "        self.play(\n",
        "            ApplyPointwiseFunction(\n",
        "                lambda point: complex_to_R3(np.exp(R3_to_complex(point))), square\n",
        "            )\n",
        "        )\n",
        "        self.wait()"
      ],
      "metadata": {
        "id": "PlEO93JywF1e"
      },
      "execution_count": null,
      "outputs": []
    },
    {
      "cell_type": "code",
      "source": [
        "%%manim -qm -v WARNING WriteStuff\n",
        "\n",
        "class WriteStuff(Scene):\n",
        "    def construct(self):\n",
        "        example_text = Tex(\"This is some text\", tex_to_color_map={\"text\": YELLOW})\n",
        "        example_tex = MathTex(\n",
        "            \"\\\\sum_{k=1}^\\\\infty {1 \\\\over k^2} = {\\\\pi^2 \\\\over 6}\",\n",
        "        )\n",
        "        group = VGroup(example_text, example_tex)\n",
        "        group.arrange(DOWN)\n",
        "        group.set(width=config[\"frame_width\"] - 2 * LARGE_BUFF)\n",
        "\n",
        "        self.play(Write(example_text))\n",
        "        self.play(Write(example_tex))\n",
        "        self.wait()"
      ],
      "metadata": {
        "id": "dNJDoYomwMOP"
      },
      "execution_count": null,
      "outputs": []
    },
    {
      "cell_type": "code",
      "source": [
        "%%manim -qm -v WARNING UpdatersExample\n",
        "\n",
        "class UpdatersExample(Scene):\n",
        "    def construct(self):\n",
        "        decimal = DecimalNumber(\n",
        "            0,\n",
        "            show_ellipsis=True,\n",
        "            num_decimal_places=3,\n",
        "            include_sign=True,\n",
        "        )\n",
        "        square = Square().to_edge(UP)\n",
        "\n",
        "        decimal.add_updater(lambda d: d.next_to(square, RIGHT))\n",
        "        decimal.add_updater(lambda d: d.set_value(square.get_center()[1]))\n",
        "        self.add(square, decimal)\n",
        "        self.play(\n",
        "            square.animate.to_edge(DOWN),\n",
        "            rate_func=there_and_back,\n",
        "            run_time=5,\n",
        "        )\n",
        "        self.wait()"
      ],
      "metadata": {
        "id": "CL-oF2kawTr9"
      },
      "execution_count": null,
      "outputs": []
    },
    {
      "cell_type": "code",
      "source": [
        "%%manim -qm -v WARNING OpeningManim\n",
        "\n",
        "class OpeningManim(Scene):\n",
        "    def construct(self):\n",
        "        title = Tex(r\"This is some \\LaTeX\")\n",
        "        basel = MathTex(r\"\\sum_{n=1}^\\infty \\frac{1}{n^2} = \\frac{\\pi^2}{6}\")\n",
        "        VGroup(title, basel).arrange(DOWN)\n",
        "        self.play(\n",
        "            Write(title),\n",
        "            FadeIn(basel, shift = UP),\n",
        "        )\n",
        "        self.wait()\n",
        "\n",
        "        transform_title = Tex(\"That was a transform\")\n",
        "        transform_title.to_corner(UP + LEFT)\n",
        "        self.play(\n",
        "            Transform(title, transform_title),\n",
        "            LaggedStart(*[FadeOut(obj, shift=DOWN) for obj in basel]),\n",
        "        )\n",
        "        self.wait()\n",
        "\n",
        "        grid = NumberPlane(x_range=(- 10, 10, 1), y_range=(- 6.0, 6.0, 1))\n",
        "        grid_title = Tex(\"This is a grid\")\n",
        "        grid_title.scale(1.5)\n",
        "        grid_title.move_to(transform_title)\n",
        "\n",
        "        self.add(grid, grid_title)  # Make sure title is on top of grid\n",
        "        self.play(\n",
        "            FadeOut(title),\n",
        "            FadeIn(grid_title, shift=DOWN),\n",
        "            Create(grid, run_time=3, lag_ratio=0.1),\n",
        "        )\n",
        "        self.wait()\n",
        "\n",
        "        grid_transform_title = Tex(\n",
        "            r\"That was a non-linear function \\\\ applied to the grid\"\n",
        "        )\n",
        "        grid_transform_title.move_to(grid_title, UL)\n",
        "        grid.prepare_for_nonlinear_transform()\n",
        "        self.play(\n",
        "            grid.animate.apply_function(\n",
        "                lambda p: p\n",
        "                + np.array(\n",
        "                    [\n",
        "                        np.sin(p[1]),\n",
        "                        np.sin(p[0]),\n",
        "                        0,\n",
        "                    ]\n",
        "                )\n",
        "            ),\n",
        "            run_time=3,\n",
        "        )\n",
        "        self.wait()\n",
        "        self.play(Transform(grid_title, grid_transform_title))\n",
        "        self.wait()"
      ],
      "metadata": {
        "id": "evYLzR98waj2"
      },
      "execution_count": null,
      "outputs": []
    },
    {
      "cell_type": "markdown",
      "source": [
        "Positioning Mobjects"
      ],
      "metadata": {
        "id": "B0PLpwzNwvSJ"
      }
    },
    {
      "cell_type": "code",
      "source": [
        "%%manim -qm -v WARNING SquareAndCircle\n",
        "class SquareAndCircle(Scene):\n",
        "    def construct(self):\n",
        "        circle = Circle()  # create a circle\n",
        "        circle.set_fill(PINK, opacity=0.5)  # set the color and transparency\n",
        "\n",
        "        square = Square()  # create a square\n",
        "        square.set_fill(BLUE, opacity=0.5)  # set the color and transparency\n",
        "\n",
        "        square.next_to(circle, RIGHT, buff=0.5)  # set the position\n",
        "        self.play(Create(circle), Create(square))  # show the shapes on screen\n"
      ],
      "metadata": {
        "id": "QhsF8fHKwuAi"
      },
      "execution_count": null,
      "outputs": []
    },
    {
      "cell_type": "markdown",
      "source": [
        "Using .animate syntax to animate methods"
      ],
      "metadata": {
        "id": "UotG8qR_w7Nj"
      }
    },
    {
      "cell_type": "code",
      "source": [
        "%%manim -qm -v WARNING AnimatedSquareToCircle\n",
        "class AnimatedSquareToCircle(Scene):\n",
        "    def construct(self):\n",
        "        circle = Circle()  # create a circle\n",
        "        square = Square()  # create a square\n",
        "\n",
        "        self.play(Create(square))  # show the square on screen\n",
        "        self.play(square.animate.rotate(PI / 4))  # rotate the square\n",
        "        self.play(\n",
        "            ReplacementTransform(square, circle)\n",
        "        )  # transform the square into a circle\n",
        "        self.play(\n",
        "            circle.animate.set_fill(PINK, opacity=0.5)\n",
        "        )  # color the circle on screen"
      ],
      "metadata": {
        "id": "MTBiLCTIw0DG"
      },
      "execution_count": null,
      "outputs": []
    },
    {
      "cell_type": "markdown",
      "source": [
        "Text Square and Triangle"
      ],
      "metadata": {
        "id": "FyCBWSXfxHaI"
      }
    },
    {
      "cell_type": "code",
      "source": [
        "%%manim -qm -v WARNING Testing\n",
        "class Testing(Scene):\n",
        "    def construct(self):\n",
        "        name =Tex('Khalid').to_edge(UL,buff=0.5)\n",
        "        sq=Square(side_length=0.5,fill_color=BLUE,fill_opacity=1).shift(LEFT*3)\n",
        "        tri=Triangle().scale(0.6).to_edge(DR)\n",
        "        self.play(Write(name))\n",
        "        self.play(DrawBorderThenFill(sq),run_time=2)\n",
        "        self.play(Create(tri))\n",
        "        self.wait()\n",
        "        self.play(name.animate.to_edge(UR),run_time=2)\n",
        "        self.play(sq.animate.scale(2),tri.animate.to_edge(DL),run_time=3)\n",
        "        self.wait(2)"
      ],
      "metadata": {
        "id": "OWNhX8JBxAFF"
      },
      "execution_count": null,
      "outputs": []
    },
    {
      "cell_type": "markdown",
      "source": [
        "Creating Logo"
      ],
      "metadata": {
        "id": "fCKNYLmZy72k"
      }
    },
    {
      "cell_type": "code",
      "source": [
        "%%manim -qm -v WARNING ManimCELogo\n",
        "class ManimCELogo(Scene):\n",
        "    def construct(self):\n",
        "        self.camera.background_color = \"#ece6e2\"\n",
        "        logo_green = \"#87c2a5\"\n",
        "        logo_blue = \"#525893\"\n",
        "        logo_red = \"#e07a5f\"\n",
        "        logo_black = \"#343434\"\n",
        "        ds_m = MathTex(r\"\\mathbb{M}\", fill_color=logo_black).scale(7)\n",
        "        ds_m.shift(2.25 * LEFT + 1.5 * UP)\n",
        "        circle = Circle(color=logo_green, fill_opacity=1).shift(LEFT)\n",
        "        square = Square(color=logo_blue, fill_opacity=1).shift(UP)\n",
        "        triangle = Triangle(color=logo_red, fill_opacity=1).shift(RIGHT)\n",
        "        logo = VGroup(triangle, square, circle, ds_m)  # order matters\n",
        "        logo.move_to(ORIGIN)\n",
        "        self.add(logo)"
      ],
      "metadata": {
        "id": "IOTztHqfxKx1"
      },
      "execution_count": null,
      "outputs": []
    },
    {
      "cell_type": "code",
      "source": [
        "%%manim -qm -v WARNING ManimCELogo\n",
        "class ManimCELogo(Scene):\n",
        "    def construct(self):\n",
        "        self.camera.background_color = \"#ece6e2\"\n",
        "        logo_green = \"#87c2a5\"\n",
        "        logo_blue = \"#525893\"\n",
        "        logo_red = \"#e07a5f\"\n",
        "        logo_black = \"#343434\"\n",
        "        ds_m = MathTex(r\"\\mathbb{K}\", fill_color=logo_black).scale(7)\n",
        "        ds_m.shift(2.25 * LEFT + 1.5 * UP)\n",
        "        circle = Circle(color=logo_green, fill_opacity=1).shift(LEFT)\n",
        "        square = Square(color=logo_blue, fill_opacity=1).shift(UP)\n",
        "        triangle = Triangle(color=logo_red, fill_opacity=1).shift(RIGHT)\n",
        "        logo = VGroup(square, circle, triangle, ds_m)  # order matters\n",
        "        logo.move_to(ORIGIN)\n",
        "        self.add(logo)"
      ],
      "metadata": {
        "id": "vW41He7SyJxm"
      },
      "execution_count": null,
      "outputs": []
    },
    {
      "cell_type": "code",
      "source": [
        "# Placing Mobjects"
      ],
      "metadata": {
        "id": "RomSW0yNyqde"
      },
      "execution_count": null,
      "outputs": []
    },
    {
      "cell_type": "code",
      "source": [
        "class Shapes(Scene):\n",
        "  def construct(self):\n",
        "    circ=Circle()\n",
        "    sqr=Square()\n",
        "    tri=Triangle()\n",
        "    # now shifting\n",
        "    circ.shift(LEFT) \n",
        "    sqr.shift(RIGHT)\n",
        "    tri.shift(DOWN)\n",
        "\n",
        "    self.add(circ,sqr,tri)\n",
        "    self.wait()"
      ],
      "metadata": {
        "id": "Yz2AyI9M-_MR"
      },
      "execution_count": null,
      "outputs": []
    },
    {
      "cell_type": "code",
      "source": [
        "%%manim -qm -v WARNING Placement\n",
        "class Placement(Scene):\n",
        "  def construct(self):\n",
        "    cir=Circle()\n",
        "    sqr=Square()\n",
        "    tri=Triangle()\n",
        "\n",
        "    cir.move_to(LEFT*2)\n",
        "    sqr.next_to(cir,LEFT)\n",
        "    tri.align_to(cir,LEFT)\n",
        "    self.add(cir,sqr,tri)\n",
        "    self.wait(2)"
      ],
      "metadata": {
        "id": "9CLh8OkwAuNu"
      },
      "execution_count": null,
      "outputs": []
    },
    {
      "cell_type": "code",
      "source": [
        "from manim import *"
      ],
      "metadata": {
        "id": "_Oj6Y9P4EQSH"
      },
      "execution_count": null,
      "outputs": []
    },
    {
      "cell_type": "code",
      "source": [
        "# Styling"
      ],
      "metadata": {
        "id": "jVf0MJygBl8h"
      },
      "execution_count": null,
      "outputs": []
    },
    {
      "cell_type": "code",
      "source": [
        "%%manim -qm -v WARNING StylingMobjects\n",
        "class StylingMobjects(Scene):\n",
        "  def construct(self):\n",
        "    cir=Circle().shift(LEFT)\n",
        "    sqr=Square().shift(UP)\n",
        "    tri=Triangle().shift(RIGHT)\n",
        "\n",
        "    cir.set_stroke(color=GREEN,opacity=1,width=20)\n",
        "    sqr.set_fill(color=YELLOW,opacity=1)\n",
        "    tri.set_fill(color=PINK,opacity=0.5)\n",
        "    self.add(sqr,cir,tri) # here order of adding or creation matters \n",
        "    self.wait(2)\n"
      ],
      "metadata": {
        "id": "j3jR9f5XCBQO"
      },
      "execution_count": null,
      "outputs": []
    },
    {
      "cell_type": "code",
      "source": [
        "# SOme animations "
      ],
      "metadata": {
        "id": "l7l52QaJCEwu"
      },
      "execution_count": null,
      "outputs": []
    },
    {
      "cell_type": "code",
      "source": [
        "%%manim -qm -v WARNING Animate1\n",
        "class Animate1(Scene):\n",
        "  def construct(self):\n",
        "    sqr=Square(color=GREEN,fill_opacity=1)\n",
        "    self.play(FadeIn(sqr))  # one secd\n",
        "    self.play(Rotate(sqr,PI/4))   #one second\n",
        "    self.play(FadeOut(sqr))    #one second\n",
        "    self.add(sqr)\n",
        "    self.wait()"
      ],
      "metadata": {
        "id": "oI5Q3TQiCIKg"
      },
      "execution_count": null,
      "outputs": []
    },
    {
      "cell_type": "code",
      "source": [
        "%%manim -qm -v WARNING tut1\n",
        "class tut1(Scene):\n",
        "  def construct(self):\n",
        "    tri=Triangle(color=RED,fill_opacity=1)\n",
        "    self.play(FadeIn(tri))\n",
        "    self.wait()\n",
        "    self.add(tri)\n",
        "    self.wait()\n",
        "    self.play(tri.animate.set_fill(WHITE).rotate(PI/3).shift(DOWN))\n",
        "    \n",
        "    self.wait()"
      ],
      "metadata": {
        "id": "mxjT1nLjAkHw"
      },
      "execution_count": null,
      "outputs": []
    },
    {
      "cell_type": "code",
      "source": [
        "%%manim -qm -v WARNING tut2\n",
        "class tut2(Scene):\n",
        "  def construct(self):\n",
        "    cir=Circle(color=YELLOW,fill_opacity=1)\n",
        "    self.play(FadeIn(cir))\n",
        "    self.wait()\n",
        "    self.add(cir)\n",
        "    self.play(cir.animate.shift(UP*5),run_time=5)\n",
        "\n"
      ],
      "metadata": {
        "id": "s-Z_-kQ-K9Dg"
      },
      "execution_count": null,
      "outputs": []
    },
    {
      "cell_type": "code",
      "source": [
        "#  Creating Custom Animations"
      ],
      "metadata": {
        "id": "sSV4XYynPX6I"
      },
      "execution_count": null,
      "outputs": []
    },
    {
      "cell_type": "code",
      "source": [
        "class CountingScene(Scene):\n",
        "    def construct(self):\n",
        "        # Create Decimal Number and add it to scene\n",
        "        number = DecimalNumber().set_color(WHITE).scale(5)\n",
        "        # Add an updater to keep the DecimalNumber centered as its value changes\n",
        "        number.add_updater(lambda number: number.move_to(ORIGIN))\n",
        "\n",
        "        self.add(number)\n",
        "\n",
        "        self.wait()\n",
        "\n",
        "        # Play the Count Animation to count from 0 to 100 in 4 seconds\n",
        "        self.play(Count(number, 0, 100), run_time=4, rate_func=linear)\n",
        "\n",
        "        self.wait()"
      ],
      "metadata": {
        "id": "qUmCqMUIP8Er"
      },
      "execution_count": null,
      "outputs": []
    },
    {
      "cell_type": "code",
      "source": [
        "%%manim -qm -v WARNING MobjectExample\n",
        "class MobjectExample(Scene):\n",
        "    def construct(self):\n",
        "        p1= [-1,-1,0]\n",
        "        p2= [1,-1,0]\n",
        "        p3= [1,1,0]\n",
        "        p4= [-1,1,0]\n",
        "        a = Line(p1,p2).append_points(Line(p2,p3).points).append_points(Line(p3,p4).points)\n",
        "        point_start= a.get_start()\n",
        "        point_end  = a.get_end()\n",
        "        point_center = a.get_center()\n",
        "        self.add(Text(f\"a.get_start() = {np.round(point_start,2).tolist()}\", font_size=24).to_edge(UR).set_color(YELLOW))\n",
        "        self.add(Text(f\"a.get_end() = {np.round(point_end,2).tolist()}\", font_size=24).next_to(self.mobjects[-1],DOWN).set_color(RED))\n",
        "        self.add(Text(f\"a.get_center() = {np.round(point_center,2).tolist()}\", font_size=24).next_to(self.mobjects[-1],DOWN).set_color(BLUE))\n",
        "\n",
        "        self.add(Dot(a.get_start()).set_color(YELLOW).scale(2))\n",
        "        self.add(Dot(a.get_end()).set_color(RED).scale(2))\n",
        "        self.add(Dot(a.get_top()).set_color(GREEN_A).scale(2))\n",
        "        self.add(Dot(a.get_bottom()).set_color(GREEN_D).scale(2))\n",
        "        self.add(Dot(a.get_center()).set_color(BLUE).scale(2))\n",
        "        self.add(Dot(a.point_from_proportion(0.5)).set_color(ORANGE).scale(2))\n",
        "        self.add(*[Dot(x) for x in a.points])\n",
        "        self.add(a)"
      ],
      "metadata": {
        "id": "NGtYgCYnRno0"
      },
      "execution_count": null,
      "outputs": []
    },
    {
      "cell_type": "code",
      "source": [
        "# Transforming Mobjects into other mobjects"
      ],
      "metadata": {
        "id": "oVS9tdpJSDWq"
      },
      "execution_count": null,
      "outputs": []
    },
    {
      "cell_type": "code",
      "source": [
        ""
      ],
      "metadata": {
        "id": "r3MBxM_KTL4C"
      },
      "execution_count": null,
      "outputs": []
    }
  ]
}