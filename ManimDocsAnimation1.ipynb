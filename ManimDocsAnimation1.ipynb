{
  "nbformat": 4,
  "nbformat_minor": 0,
  "metadata": {
    "colab": {
      "name": "ManimDocsAnimation1.ipynb",
      "provenance": [],
      "collapsed_sections": [
        "bmSBsMquLdMy"
      ],
      "authorship_tag": "ABX9TyNr7EseUld78htb1L9KGj3R",
      "include_colab_link": true
    },
    "kernelspec": {
      "name": "python3",
      "display_name": "Python 3"
    },
    "language_info": {
      "name": "python"
    }
  },
  "cells": [
    {
      "cell_type": "markdown",
      "metadata": {
        "id": "view-in-github",
        "colab_type": "text"
      },
      "source": [
        "<a href=\"https://colab.research.google.com/github/khalid8raja/RepoBinder-Python-Manim-/blob/main/ManimDocsAnimation1.ipynb\" target=\"_parent\"><img src=\"https://colab.research.google.com/assets/colab-badge.svg\" alt=\"Open In Colab\"/></a>"
      ]
    },
    {
      "cell_type": "markdown",
      "source": [
        ""
      ],
      "metadata": {
        "id": "gGQnGP_mK38j"
      }
    },
    {
      "cell_type": "markdown",
      "source": [
        "##Resolution"
      ],
      "metadata": {
        "id": "lo8G8jADK3-A"
      }
    },
    {
      "cell_type": "code",
      "source": [
        "PRODUCTION_QUALITY_CAMERA_CONFIG = {\n",
        "    \"pixel_height\": 1440,\n",
        "    \"pixel_width\": 2560,\n",
        "    \"frame_rate\": 60,\n",
        "}\n",
        "\n",
        "HIGH_QUALITY_CAMERA_CONFIG = {\n",
        "    \"pixel_height\": 1080,\n",
        "    \"pixel_width\": 1920,\n",
        "    \"frame_rate\": 30,\n",
        "}\n",
        "\n",
        "MEDIUM_QUALITY_CAMERA_CONFIG = {\n",
        "    \"pixel_height\": 720,\n",
        "    \"pixel_width\": 1280,\n",
        "    \"frame_rate\": 30,\n",
        "}\n",
        "\n",
        "LOW_QUALITY_CAMERA_CONFIG = {\n",
        "    \"pixel_height\": 480,\n",
        "    \"pixel_width\": 854,\n",
        "    \"frame_rate\": 15,\n",
        "}"
      ],
      "metadata": {
        "id": "Iu9_r9sOK6GT"
      },
      "execution_count": null,
      "outputs": []
    },
    {
      "cell_type": "markdown",
      "source": [
        "##FrameDimensions"
      ],
      "metadata": {
        "id": "FvpSbxqPK_ns"
      }
    },
    {
      "cell_type": "code",
      "source": [
        "DEFAULT_PIXEL_HEIGHT = PRODUCTION_QUALITY_CAMERA_CONFIG[\"pixel_height\"]\n",
        "DEFAULT_PIXEL_WIDTH = PRODUCTION_QUALITY_CAMERA_CONFIG[\"pixel_width\"]\n",
        "DEFAULT_FRAME_RATE = 60\n",
        "\n",
        "DEFAULT_POINT_DENSITY_2D = 25\n",
        "DEFAULT_POINT_DENSITY_1D = 250\n",
        "\n",
        "DEFAULT_STROKE_WIDTH = 4\n",
        "\n",
        "FRAME_HEIGHT = 8.0\n",
        "FRAME_WIDTH = FRAME_HEIGHT * DEFAULT_PIXEL_WIDTH / DEFAULT_PIXEL_HEIGHT\n",
        "FRAME_Y_RADIUS = FRAME_HEIGHT / 2\n",
        "FRAME_X_RADIUS = FRAME_WIDTH / 2"
      ],
      "metadata": {
        "id": "65ExL85xLFkF"
      },
      "execution_count": null,
      "outputs": []
    },
    {
      "cell_type": "markdown",
      "source": [
        "##Buffs"
      ],
      "metadata": {
        "id": "g8gjZmr7LNMn"
      }
    },
    {
      "cell_type": "code",
      "source": [
        "SMALL_BUFF = 0.1\n",
        "MED_SMALL_BUFF = 0.25\n",
        "MED_LARGE_BUFF = 0.5\n",
        "LARGE_BUFF = 1\n",
        "\n",
        "DEFAULT_MOBJECT_TO_EDGE_BUFFER = MED_LARGE_BUFF\n",
        "DEFAULT_MOBJECT_TO_MOBJECT_BUFFER = MED_SMALL_BUFF"
      ],
      "metadata": {
        "id": "CR2NxiY3LLJ7"
      },
      "execution_count": null,
      "outputs": []
    },
    {
      "cell_type": "markdown",
      "source": [
        "##Vectors"
      ],
      "metadata": {
        "id": "OLl_NL9OLR4w"
      }
    },
    {
      "cell_type": "code",
      "source": [
        "ORIGIN = np.array((0., 0., 0.))\n",
        "UP = np.array((0., 1., 0.))\n",
        "DOWN = np.array((0., -1., 0.))\n",
        "RIGHT = np.array((1., 0., 0.))\n",
        "LEFT = np.array((-1., 0., 0.))\n",
        "IN = np.array((0., 0., -1.))\n",
        "OUT = np.array((0., 0., 1.))\n",
        "X_AXIS = np.array((1., 0., 0.))\n",
        "Y_AXIS = np.array((0., 1., 0.))\n",
        "Z_AXIS = np.array((0., 0., 1.))\n",
        "\n",
        "# Useful abbreviations for diagonals\n",
        "UL = UP + LEFT\n",
        "UR = UP + RIGHT\n",
        "DL = DOWN + LEFT\n",
        "DR = DOWN + RIGHT\n",
        "\n",
        "TOP = FRAME_Y_RADIUS * UP\n",
        "BOTTOM = FRAME_Y_RADIUS * DOWN\n",
        "LEFT_SIDE = FRAME_X_RADIUS * LEFT\n",
        "RIGHT_SIDE = FRAME_X_RADIUS * RIGHT"
      ],
      "metadata": {
        "id": "BnWuz1BSLUgl"
      },
      "execution_count": null,
      "outputs": []
    },
    {
      "cell_type": "markdown",
      "source": [
        "##Color palette"
      ],
      "metadata": {
        "id": "hUEImIYmLX_4"
      }
    },
    {
      "cell_type": "code",
      "source": [
        "COLOR_MAP = {\n",
        "    \"DARK_BLUE\": \"#236B8E\",\n",
        "    \"DARK_BROWN\": \"#8B4513\",\n",
        "    \"LIGHT_BROWN\": \"#CD853F\",\n",
        "    \"BLUE_E\": \"#1C758A\",\n",
        "    \"BLUE_D\": \"#29ABCA\",\n",
        "    \"BLUE_C\": \"#58C4DD\",\n",
        "    \"BLUE_B\": \"#9CDCEB\",\n",
        "    \"BLUE_A\": \"#C7E9F1\",\n",
        "    \"TEAL_E\": \"#49A88F\",\n",
        "    \"TEAL_D\": \"#55C1A7\",\n",
        "    \"TEAL_C\": \"#5CD0B3\",\n",
        "    \"TEAL_B\": \"#76DDC0\",\n",
        "    \"TEAL_A\": \"#ACEAD7\",\n",
        "    \"GREEN_E\": \"#699C52\",\n",
        "    \"GREEN_D\": \"#77B05D\",\n",
        "    \"GREEN_C\": \"#83C167\",\n",
        "    \"GREEN_B\": \"#A6CF8C\",\n",
        "    \"GREEN_A\": \"#C9E2AE\",\n",
        "    \"YELLOW_E\": \"#E8C11C\",\n",
        "    \"YELLOW_D\": \"#F4D345\",\n",
        "    \"YELLOW_C\": \"#FFFF00\",\n",
        "    \"YELLOW_B\": \"#FFEA94\",\n",
        "    \"YELLOW_A\": \"#FFF1B6\",\n",
        "    \"GOLD_E\": \"#C78D46\",\n",
        "    \"GOLD_D\": \"#E1A158\",\n",
        "    \"GOLD_C\": \"#F0AC5F\",\n",
        "    \"GOLD_B\": \"#F9B775\",\n",
        "    \"GOLD_A\": \"#F7C797\",\n",
        "    \"RED_E\": \"#CF5044\",\n",
        "    \"RED_D\": \"#E65A4C\",\n",
        "    \"RED_C\": \"#FC6255\",\n",
        "    \"RED_B\": \"#FF8080\",\n",
        "    \"RED_A\": \"#F7A1A3\",\n",
        "    \"MAROON_E\": \"#94424F\",\n",
        "    \"MAROON_D\": \"#A24D61\",\n",
        "    \"MAROON_C\": \"#C55F73\",\n",
        "    \"MAROON_B\": \"#EC92AB\",\n",
        "    \"MAROON_A\": \"#ECABC1\",\n",
        "    \"PURPLE_E\": \"#644172\",\n",
        "    \"PURPLE_D\": \"#715582\",\n",
        "    \"PURPLE_C\": \"#9A72AC\",\n",
        "    \"PURPLE_B\": \"#B189C6\",\n",
        "    \"PURPLE_A\": \"#CAA3E8\",\n",
        "    \"WHITE\": \"#FFFFFF\",\n",
        "    \"BLACK\": \"#000000\",\n",
        "    \"LIGHT_GRAY\": \"#BBBBBB\",\n",
        "    \"LIGHT_GREY\": \"#BBBBBB\",\n",
        "    \"GRAY\": \"#888888\",\n",
        "    \"GREY\": \"#888888\",\n",
        "    \"DARK_GREY\": \"#444444\",\n",
        "    \"DARK_GRAY\": \"#444444\",\n",
        "    \"GREY_BROWN\": \"#736357\",\n",
        "    \"PINK\": \"#D147BD\",\n",
        "    \"GREEN_SCREEN\": \"#00FF00\",\n",
        "    \"ORANGE\": \"#FF862F\",\n",
        "}\n",
        "PALETTE = list(COLOR_MAP.values())\n",
        "locals().update(COLOR_MAP)\n",
        "for name in [s for s in list(COLOR_MAP.keys()) if s.endswith(\"_C\")]:\n",
        "    locals()[name.replace(\"_C\", \"\")] = locals()[name]"
      ],
      "metadata": {
        "id": "mV3bY3I1Laf8"
      },
      "execution_count": null,
      "outputs": []
    },
    {
      "cell_type": "markdown",
      "source": [
        "##Tree"
      ],
      "metadata": {
        "id": "bmSBsMquLdMy"
      }
    },
    {
      "cell_type": "code",
      "source": [
        ".\n",
        "├── AbstractImage\n",
        "│   ├── ImageMobject\n",
        "│   └── ImageMobjectFromCamera\n",
        "├── Mobject1D\n",
        "│   └── PointCloudDot\n",
        "├── Mobject2D\n",
        "├── PMobject\n",
        "│   └── Point\n",
        "├── ValueTracker\n",
        "│   ├── ComplexValueTracker\n",
        "│   └── ExponentialValueTracker\n",
        "└── VMobject\n",
        "    ├── AnnularSector\n",
        "    │   └── Sector\n",
        "    ├── Arc\n",
        "    │   ├── ArcBetweenPoints\n",
        "    │   │   ├── CurvedArrow\n",
        "    │   │   └── CurvedDoubleArrow\n",
        "    │   └── Circle\n",
        "    │       ├── Annulus\n",
        "    │       └── Dot\n",
        "    ├── BraceLabel\n",
        "    │   └── BraceText\n",
        "    ├── CubicBezier\n",
        "    ├── DashedMobject\n",
        "    ├── Elbow\n",
        "    ├── Ellipse\n",
        "    ├── Grid\n",
        "    ├── Line\n",
        "    │   ├── Arrow\n",
        "    │   │   ├── DoubleArrow\n",
        "    │   │   └── Vector\n",
        "    │   └── DashedLine\n",
        "    ├── Matrix\n",
        "    │   ├── DecimalMatrix\n",
        "    │   ├── IntegerMatrix\n",
        "    │   └── MobjectMatrix\n",
        "    ├── NumberLine\n",
        "    │   └── UnitInterval\n",
        "    ├── NumberPlane\n",
        "    │   └── ComplexPlane\n",
        "    ├── ParametricFunction\n",
        "    │   └── FunctionGraph\n",
        "    ├── Polygon\n",
        "    │   └── RegularPolygon\n",
        "    ├── Rectangle\n",
        "    │   ├── PictureInPictureFrame\n",
        "    │   ├── RoundedRectangle\n",
        "    │   ├── SampleSpace\n",
        "    │   ├── ScreenRectangle\n",
        "    │   │   └── FullScreenRectangle\n",
        "    │   │       └── FullScreenFadeRectangle\n",
        "    │   ├── Square\n",
        "    │   └── SurroundingRectangle\n",
        "    │       └── BackgroundRectangle\n",
        "    ├── SVGMobject\n",
        "    │   └── SingleStringTexMobject\n",
        "    │       └── TexMobject\n",
        "    │           ├── Brace\n",
        "    │           ├── TexMobjectFromPresetString\n",
        "    │           └── TextMobject\n",
        "    │               ├── BulletedList\n",
        "    │               └── Title\n",
        "    ├── ThreeDVMobject\n",
        "    ├── VectorizedPoint\n",
        "    ├── VGroup\n",
        "    │   ├── Axes\n",
        "    │   │   └── ThreeDAxes\n",
        "    │   ├── BarChart\n",
        "    │   ├── Cross\n",
        "    │   ├── Cube\n",
        "    │   │   └── Prism\n",
        "    │   └── ParametricSurface\n",
        "    │       └── Sphere\n",
        "    └── VMobjectFromSVGPathstring\n",
        "        └── TexSymbol"
      ],
      "metadata": {
        "id": "9QMJWVn7LhoE"
      },
      "execution_count": null,
      "outputs": []
    },
    {
      "cell_type": "markdown",
      "source": [
        "##The LaTeX packages that Manim uses are in:"
      ],
      "metadata": {
        "id": "R0FsOyN4LrQT"
      }
    },
    {
      "cell_type": "code",
      "source": [
        "\\usepackage[english]{babel}\n",
        "\\usepackage{amsmath}\n",
        "\\usepackage{amssymb}\n",
        "\\usepackage{dsfont}\n",
        "\\usepackage{setspace}\n",
        "\\usepackage{tipa}\n",
        "\\usepackage{relsize}\n",
        "\\usepackage{textcomp}\n",
        "\\usepackage{mathrsfs}\n",
        "\\usepackage{calligra}\n",
        "\\usepackage{wasysym}\n",
        "\\usepackage{ragged2e}\n",
        "\\usepackage{physics}\n",
        "\\usepackage{xcolor}\n",
        "\\usepackage{textcomp}\n",
        "\\usepackage{microtype}"
      ],
      "metadata": {
        "id": "9rTy-M_-LxF8"
      },
      "execution_count": null,
      "outputs": []
    },
    {
      "cell_type": "markdown",
      "source": [
        "##Animations"
      ],
      "metadata": {
        "id": "MCh_4b-jL3Kt"
      }
    },
    {
      "cell_type": "code",
      "source": [
        "Tree\n",
        ".\n",
        "├── AnimationGroup\n",
        "│   ├── AnimationOnSurroundingRectangle\n",
        "│   │   ├── ShowCreationThenDestructionAround\n",
        "│   │   ├── ShowCreationThenFadeAround\n",
        "│   │   └── ShowPassingFlashAround\n",
        "│   └── Flash\n",
        "├── ApplyToCenters\n",
        "├── ChangingDecimal\n",
        "│   └── ChangeDecimalToValue\n",
        "├── DrawBorderThenFill\n",
        "│   └── Write\n",
        "├── EmptyAnimation\n",
        "├── Homotopy\n",
        "│   ├── ApplyWave\n",
        "│   ├── ComplexHomotopy\n",
        "│   └── SmoothedVectorizedHomotopy\n",
        "├── LaggedStart\n",
        "├── MaintainPositionRelativeTo\n",
        "├── MoveAlongPath\n",
        "├── PhaseFlow\n",
        "├── Rotating\n",
        "├── ShowIncreasingSubsets\n",
        "├── ShowPartial\n",
        "│   ├── ShowCreation\n",
        "│   │   └── Uncreate\n",
        "│   └── ShowPassingFlash\n",
        "│       └── ShowCreationThenDestruction\n",
        "├── Succession\n",
        "│   └── ShowCreationThenFadeOut\n",
        "├── Transform\n",
        "│   ├── FadeIn\n",
        "│   ├── FadeInAndShiftFromDirection\n",
        "│   │   └── FadeInFromDown\n",
        "│   ├── FadeInFromLarge\n",
        "│   ├── FadeOut\n",
        "│   │   └── FadeOutAndShift\n",
        "│   │       └── FadeOutAndShiftDown\n",
        "│   ├── FocusOn\n",
        "│   ├── GrowFromPoint\n",
        "│   │   ├── GrowArrow\n",
        "│   │   ├── GrowFromCenter\n",
        "│   │   │   └── SpinInFromNothing\n",
        "│   │   └── GrowFromEdge\n",
        "│   ├── Indicate\n",
        "│   │   └── CircleIndicate\n",
        "│   ├── Rotate\n",
        "│   ├── ShrinkToCenter\n",
        "│   └── TurnInsideOut\n",
        "├── UpdateFromAlphaFunc\n",
        "├── UpdateFromFunc\n",
        "├── VFadeIn\n",
        "├── Vibrate\n",
        "└── WiggleOutThenIn"
      ],
      "metadata": {
        "id": "5nWNIlkyMgcl"
      },
      "execution_count": null,
      "outputs": []
    },
    {
      "cell_type": "markdown",
      "source": [
        "##ShowCreation"
      ],
      "metadata": {
        "id": "AMzvcenKMne0"
      }
    },
    {
      "cell_type": "code",
      "source": [
        "classmanimlib.animation.creation.ShowCreation(mobject, **kwargs)"
      ],
      "metadata": {
        "id": "Yo_Ywl1CMwDC"
      },
      "execution_count": null,
      "outputs": []
    },
    {
      "cell_type": "code",
      "source": [
        "%%manim -qm-v WARNING ShowCreationExample\n",
        "class ShowCreationExample(Scene):\n",
        "    def construct(self):\n",
        "        mobjects = VGroup(\n",
        "                Circle(),\n",
        "                Circle(fill_opacity=1),\n",
        "                TextMobject(\"Text\").scale(2)\n",
        "            )\n",
        "        mobjects.scale(1.5)\n",
        "        mobjects.arrange_submobjects(RIGHT,buff=2)\n",
        "\n",
        "        self.play(\n",
        "            *[ShowCreation(mob) for mob in mobjects]\n",
        "        )\n",
        "\n",
        "        self.wait()"
      ],
      "metadata": {
        "id": "e0JPtY-YMw8G"
      },
      "execution_count": null,
      "outputs": []
    },
    {
      "cell_type": "markdown",
      "source": [
        "##UnCreate"
      ],
      "metadata": {
        "id": "MWjAk3noNOwQ"
      }
    },
    {
      "cell_type": "code",
      "source": [
        "class manimlib.animation.creation.Uncreate(mobject, **kwargs)"
      ],
      "metadata": {
        "id": "_kcktG4SNHtW"
      },
      "execution_count": null,
      "outputs": []
    },
    {
      "cell_type": "code",
      "source": [
        "%%manim -qm -v WARNING UncreateExample\n",
        "class UncreateExample(Scene):\n",
        "    def construct(self):\n",
        "        mobjects = VGroup(\n",
        "                Circle(),\n",
        "                Circle(fill_opacity=1),\n",
        "                TextMobject(\"Text\").scale(2)\n",
        "            )\n",
        "        mobjects.scale(1.5)\n",
        "        mobjects.arrange_submobjects(RIGHT,buff=2)\n",
        "\n",
        "        self.add(mobjects)\n",
        "\n",
        "        self.wait(0.3)\n",
        "\n",
        "        self.play(\n",
        "            *[Uncreate(mob) for mob in mobjects]\n",
        "        )\n",
        "\n",
        "        self.wait()"
      ],
      "metadata": {
        "id": "g4zao6jQNSI0"
      },
      "execution_count": null,
      "outputs": []
    },
    {
      "cell_type": "markdown",
      "source": [
        "##Draw Border Then Fill"
      ],
      "metadata": {
        "id": "FMxr3NmzNksN"
      }
    },
    {
      "cell_type": "code",
      "source": [
        "classmanimlib.animation.creation.DrawBorderThenFill(vmobject, **kwargs)"
      ],
      "metadata": {
        "id": "qN8I47cUNo6T"
      },
      "execution_count": null,
      "outputs": []
    },
    {
      "cell_type": "code",
      "source": [
        "%%manim -qm -v WARNING DrawBorderThenFillExample\n",
        "class DrawBorderThenFillExample(Scene):\n",
        "    def construct(self):\n",
        "        vmobjects = VGroup(\n",
        "                Circle(),\n",
        "                Circle(fill_opacity=1),\n",
        "                TextMobject(\"Text\").scale(2)\n",
        "            )\n",
        "        vmobjects.scale(1.5)\n",
        "        vmobjects.arrange_submobjects(RIGHT,buff=2)\n",
        "\n",
        "        self.play(\n",
        "            *[DrawBorderThenFill(mob) for mob in vmobjects]\n",
        "        )\n",
        "\n",
        "        self.wait()"
      ],
      "metadata": {
        "id": "_n2QVjYXNrmr"
      },
      "execution_count": null,
      "outputs": []
    },
    {
      "cell_type": "markdown",
      "source": [
        "##Write"
      ],
      "metadata": {
        "id": "ju-UAKnyODWv"
      }
    },
    {
      "cell_type": "code",
      "source": [
        "class manimlib.animation.creation.Write(mob_or_text, **kwargs)"
      ],
      "metadata": {
        "id": "YINat0QSNu_I"
      },
      "execution_count": null,
      "outputs": []
    },
    {
      "cell_type": "code",
      "source": [
        "%%manim -qm -v WARNING WriteExample\n",
        "class WriteExample(Scene):\n",
        "    def construct(self):\n",
        "        mobjects = VGroup(\n",
        "                Circle(),\n",
        "                Circle(fill_opacity=1),\n",
        "                TextMobject(\"Text\").scale(2)\n",
        "            )\n",
        "        mobjects.scale(1.5)\n",
        "        mobjects.arrange_submobjects(RIGHT,buff=2)\n",
        "\n",
        "        self.play(\n",
        "            *[Write(mob) for mob in mobjects]\n",
        "        )\n",
        "\n",
        "        self.wait()"
      ],
      "metadata": {
        "id": "18epteckOJuZ"
      },
      "execution_count": null,
      "outputs": []
    },
    {
      "cell_type": "markdown",
      "source": [
        "##Fade\n",
        "###FadeOut"
      ],
      "metadata": {
        "id": "jw_fhUSUOZAd"
      }
    },
    {
      "cell_type": "code",
      "source": [
        "classmanimlib.animation.creation.FadeOut(mobject, **kwargs)"
      ],
      "metadata": {
        "id": "nIGBwMgsOW9t"
      },
      "execution_count": null,
      "outputs": []
    },
    {
      "cell_type": "code",
      "source": [
        "%%manim -qm -v WARNING FadeOutExample\n",
        "class FadeOutExample(Scene):\n",
        "    def construct(self):\n",
        "        mobjects = VGroup(\n",
        "                Circle(),\n",
        "                Circle(fill_opacity=1),\n",
        "                TextMobject(\"Text\").scale(2)\n",
        "            )\n",
        "        mobjects.scale(1.5)\n",
        "        mobjects.arrange_submobjects(RIGHT,buff=2)\n",
        "\n",
        "        self.add(mobjects)\n",
        "        self.wait(0.3)\n",
        "\n",
        "        self.play(\n",
        "            *[FadeOut(mob) for mob in mobjects]\n",
        "        )\n",
        "\n",
        "        self.wait()"
      ],
      "metadata": {
        "id": "Zci8ErPsOifD"
      },
      "execution_count": null,
      "outputs": []
    },
    {
      "cell_type": "markdown",
      "source": [
        "###FadeIn"
      ],
      "metadata": {
        "id": "reZqUnA6Ot-W"
      }
    },
    {
      "cell_type": "code",
      "source": [
        "class manimlib.animation.creation.FadeIn(mobject, **kwargs)"
      ],
      "metadata": {
        "id": "XNiGaR7OOyb8"
      },
      "execution_count": null,
      "outputs": []
    },
    {
      "cell_type": "code",
      "source": [
        "%%manim -qm -v WARNING FadeInExample\n",
        "class FadeInExample(Scene):\n",
        "    def construct(self):\n",
        "        mobjects = VGroup(\n",
        "                Circle(),\n",
        "                Circle(fill_opacity=1),\n",
        "                TextMobject(\"Text\").scale(2)\n",
        "            )\n",
        "        mobjects.scale(1.5)\n",
        "        mobjects.arrange_submobjects(RIGHT,buff=2)\n",
        "\n",
        "        self.play(\n",
        "            *[FadeIn(mob) for mob in mobjects]\n",
        "        )\n",
        "\n",
        "        self.wait()"
      ],
      "metadata": {
        "id": "7QRGL2DzO9rp"
      },
      "execution_count": null,
      "outputs": []
    },
    {
      "cell_type": "markdown",
      "source": [
        "#Fade In From"
      ],
      "metadata": {
        "id": "KJyVlc5DPJH1"
      }
    },
    {
      "cell_type": "code",
      "source": [
        "class manimlib.animation.creation.FadeInFrom(mobject, direction=None, **kwargs)"
      ],
      "metadata": {
        "id": "Ep2vXwlPPKgU"
      },
      "execution_count": null,
      "outputs": []
    },
    {
      "cell_type": "code",
      "source": [
        "%%manim -qm -v WARNING FadeInFrom\n",
        "class FadeInFromExample(Scene):\n",
        "    def construct(self):\n",
        "        mobjects = VGroup(\n",
        "                Circle(),\n",
        "                Circle(fill_opacity=1),\n",
        "                TextMobject(\"Text\").scale(2)\n",
        "            )\n",
        "        mobjects.scale(1.5)\n",
        "        mobjects.arrange_submobjects(RIGHT,buff=2)\n",
        "\n",
        "        directions=[UP,LEFT,DOWN,RIGHT]\n",
        "\n",
        "        for direction in directions:\n",
        "            self.play(\n",
        "                *[FadeInFrom(mob,direction) for mob in mobjects]\n",
        "            )\n",
        "\n",
        "        self.wait()"
      ],
      "metadata": {
        "id": "HZmw9vmhPOoC"
      },
      "execution_count": null,
      "outputs": []
    },
    {
      "cell_type": "markdown",
      "source": [
        "#Fade In From Down"
      ],
      "metadata": {
        "id": "MRedp64GPV6z"
      }
    },
    {
      "cell_type": "code",
      "source": [
        "class manimlib.animation.creation.FadeInFromDown(mobject, direction=None, **kwargs)"
      ],
      "metadata": {
        "id": "g73SGdpHPYW-"
      },
      "execution_count": null,
      "outputs": []
    },
    {
      "cell_type": "code",
      "source": [
        "%%manim -qm -v WARNING FadeInFromDownExample\n",
        "class FadeInFromDownExample(Scene):\n",
        "    def construct(self):\n",
        "        mobjects = VGroup(\n",
        "                Circle(),\n",
        "                Circle(fill_opacity=1),\n",
        "                TextMobject(\"Text\").scale(2)\n",
        "            )\n",
        "        mobjects.scale(1.5)\n",
        "        mobjects.arrange_submobjects(RIGHT,buff=2)\n",
        "\n",
        "        self.play(\n",
        "            *[FadeInFromDown(mob) for mob in mobjects]\n",
        "        )\n",
        "\n",
        "        self.wait()"
      ],
      "metadata": {
        "id": "m0-SszXxPb7q"
      },
      "execution_count": null,
      "outputs": []
    },
    {
      "cell_type": "markdown",
      "source": [
        "#Fade Out And Shift"
      ],
      "metadata": {
        "id": "Sg7cg4znPmku"
      }
    },
    {
      "cell_type": "code",
      "source": [
        "class manimlib.animation.creation.FadeOutAndShift(mobject, direction=None, **kwargs)"
      ],
      "metadata": {
        "id": "hOqPTzlzPpMc"
      },
      "execution_count": null,
      "outputs": []
    },
    {
      "cell_type": "code",
      "source": [
        "%%manim -qm -v WARNING FadeOutAndShiftExample\n",
        "class FadeOutAndShiftExample(Scene):\n",
        "    def construct(self):\n",
        "        mobjects = VGroup(\n",
        "                Circle(),\n",
        "                Circle(fill_opacity=1),\n",
        "                TextMobject(\"Text\").scale(2)\n",
        "            )\n",
        "        mobjects.scale(1.5)\n",
        "        mobjects.arrange_submobjects(RIGHT,buff=2)\n",
        "\n",
        "        directions=[UP,LEFT,DOWN,RIGHT]\n",
        "\n",
        "        self.add(mobjects)\n",
        "        self.wait(0.3)\n",
        "\n",
        "        for direction in directions:\n",
        "            self.play(\n",
        "                *[FadeOutAndShift(mob,direction) for mob in mobjects]\n",
        "            )\n",
        "\n",
        "        self.wait()"
      ],
      "metadata": {
        "id": "FIqtFZEFPt7W"
      },
      "execution_count": null,
      "outputs": []
    },
    {
      "cell_type": "markdown",
      "source": [
        "#Fade Out And Shift Down"
      ],
      "metadata": {
        "id": "9sPZgyvjP6LG"
      }
    },
    {
      "cell_type": "code",
      "source": [
        "class manimlib.animation.creation.FadeOutAndShiftDown(mobject, direction=None, **kwargs)"
      ],
      "metadata": {
        "id": "_zXIEFwUP8js"
      },
      "execution_count": null,
      "outputs": []
    },
    {
      "cell_type": "code",
      "source": [
        "%%manim -qm -v WARNING FadeOutAndShiftDownExample\n",
        "class FadeOutAndShiftDownExample(Scene):\n",
        "    def construct(self):\n",
        "        mobjects = VGroup(\n",
        "                Circle(),\n",
        "                Circle(fill_opacity=1),\n",
        "                TextMobject(\"Text\").scale(2)\n",
        "            )\n",
        "        mobjects.scale(1.5)\n",
        "        mobjects.arrange_submobjects(RIGHT,buff=2)\n",
        "\n",
        "        self.play(\n",
        "            *[FadeOutAndShiftDown(mob) for mob in mobjects]\n",
        "        )\n",
        "\n",
        "        self.wait()"
      ],
      "metadata": {
        "id": "YQtESNhXP_UE"
      },
      "execution_count": null,
      "outputs": []
    },
    {
      "cell_type": "markdown",
      "source": [
        "#Fade In From Large"
      ],
      "metadata": {
        "id": "yEoRg1ZfQMvb"
      }
    },
    {
      "cell_type": "code",
      "source": [
        "class manimlib.animation.creation.FadeInFromLarge(mobject, scale_factor=2, **kwargs)"
      ],
      "metadata": {
        "id": "L5o66VP-QVp7"
      },
      "execution_count": null,
      "outputs": []
    },
    {
      "cell_type": "code",
      "source": [
        "%%manim -qm -v WARNING FadeInFromLargeExample\n",
        "class FadeInFromLargeExample(Scene):\n",
        "    def construct(self):\n",
        "        mobjects = VGroup(\n",
        "                Circle(),\n",
        "                Circle(fill_opacity=1),\n",
        "                TextMobject(\"Text\").scale(2)\n",
        "            )\n",
        "        mobjects.scale(1.5)\n",
        "        mobjects.arrange_submobjects(RIGHT,buff=2)\n",
        "\n",
        "        scale_factors=[0.3,0.8,1,1.3,1.8]\n",
        "\n",
        "        for scale_factor in scale_factors:\n",
        "            t_scale_factor = TextMobject(f\"\\\\tt scale\\\\_factor = {scale_factor}\")\n",
        "            t_scale_factor.to_edge(UP)\n",
        "\n",
        "            self.add(t_scale_factor)\n",
        "\n",
        "            self.play(\n",
        "                *[FadeInFromLarge(mob,scale_factor) for mob in mobjects]\n",
        "            )\n",
        "\n",
        "            self.remove(t_scale_factor)\n",
        "\n",
        "        self.wait(0.3)"
      ],
      "metadata": {
        "id": "31cU6gL4QMYv"
      },
      "execution_count": null,
      "outputs": []
    },
    {
      "cell_type": "markdown",
      "source": [
        "#VFade In and VFade Out"
      ],
      "metadata": {
        "id": "rcrreC7YQhD9"
      }
    },
    {
      "cell_type": "code",
      "source": [
        "class manimlib.animation.creation.VFadeIn(mobject, **kwargs)\n",
        "class manimlib.animation.creation.VFadeOut(mobject, **kwargs)\n",
        "# VFadeIn and VFadeOut only work for VMobjects, but they can be applied to mobjects while they are being animated in some other way \n",
        "#(e.g. shifting then) in a way that does not work with FadeIn and FadeOut\n"
      ],
      "metadata": {
        "id": "yHQHmEgKQj_Q"
      },
      "execution_count": null,
      "outputs": []
    },
    {
      "cell_type": "markdown",
      "source": [
        "#Grow\n",
        "##Grow From Point"
      ],
      "metadata": {
        "id": "ku_7nmjEQ2m3"
      }
    },
    {
      "cell_type": "code",
      "source": [
        "class manimlib.animation.creation.GrowFromPoint(mobject, point, **kwargs)"
      ],
      "metadata": {
        "id": "jJb1A_HpQ6cd"
      },
      "execution_count": null,
      "outputs": []
    },
    {
      "cell_type": "code",
      "source": [
        "%%manim -qm -v WARNING GrowFromPointExample\n",
        "class GrowFromPointExample(Scene):\n",
        "    def construct(self):\n",
        "        mobjects = VGroup(\n",
        "                Circle(),\n",
        "                Circle(fill_opacity=1),\n",
        "                TextMobject(\"Text\").scale(2)\n",
        "            )\n",
        "        mobjects.arrange_submobjects(RIGHT,buff=2)\n",
        "\n",
        "        directions=[UP,LEFT,DOWN,RIGHT]\n",
        "\n",
        "        for direction in directions:\n",
        "            self.play(\n",
        "                *[GrowFromPoint(mob,mob.get_center()+direction*3) for mob in mobjects]\n",
        "            )\n",
        "\n",
        "        self.wait()"
      ],
      "metadata": {
        "id": "4idiy2v2RAS4"
      },
      "execution_count": null,
      "outputs": []
    },
    {
      "cell_type": "markdown",
      "source": [
        "#Grow From Center"
      ],
      "metadata": {
        "id": "p54sYzQiRKRX"
      }
    },
    {
      "cell_type": "code",
      "source": [
        "class manimlib.animation.creation.GrowFromCenter(mobject, **kwargs)"
      ],
      "metadata": {
        "id": "HMligBCLRLAt"
      },
      "execution_count": null,
      "outputs": []
    },
    {
      "cell_type": "code",
      "source": [
        "%%manim -qm -v WARNING GrowFromCenterExample\n",
        "class GrowFromCenterExample(Scene):\n",
        "    def construct(self):\n",
        "        mobjects = VGroup(\n",
        "                Circle(),\n",
        "                Circle(fill_opacity=1),\n",
        "                TextMobject(\"Text\").scale(2)\n",
        "            )\n",
        "        mobjects.scale(1.5)\n",
        "        mobjects.arrange_submobjects(RIGHT,buff=2)\n",
        "\n",
        "        self.play(\n",
        "            *[GrowFromCenter(mob) for mob in mobjects]\n",
        "        )\n",
        "\n",
        "        self.wait()"
      ],
      "metadata": {
        "id": "zs4MbiGwRNKb"
      },
      "execution_count": null,
      "outputs": []
    },
    {
      "cell_type": "markdown",
      "source": [
        "#Grow From Edge"
      ],
      "metadata": {
        "id": "w_zGj1EERWGq"
      }
    },
    {
      "cell_type": "code",
      "source": [
        "class manimlib.animation.creation.GrowFromEdge(mobject, edge, **kwargs)"
      ],
      "metadata": {
        "id": "a7mp0bIWRX8l"
      },
      "execution_count": null,
      "outputs": []
    },
    {
      "cell_type": "code",
      "source": [
        "%%manim -qm -v WARNING GrowFromEdgeExample\n",
        "class GrowFromEdgeExample(Scene):\n",
        "    def construct(self):\n",
        "        mobjects = VGroup(\n",
        "                Circle(),\n",
        "                Circle(fill_opacity=1),\n",
        "                TextMobject(\"Text\").scale(2)\n",
        "            )\n",
        "        mobjects.arrange_submobjects(RIGHT,buff=2)\n",
        "\n",
        "        directions=[UP,LEFT,DOWN,RIGHT]\n",
        "\n",
        "        for direction in directions:\n",
        "            self.play(\n",
        "                *[GrowFromEdge(mob,direction) for mob in mobjects]\n",
        "            )\n",
        "\n",
        "        self.wait()"
      ],
      "metadata": {
        "id": "tGGhUzaQRaI6"
      },
      "execution_count": null,
      "outputs": []
    },
    {
      "cell_type": "markdown",
      "source": [
        "#Grow Arrow"
      ],
      "metadata": {
        "id": "hixV9avJRrqN"
      }
    },
    {
      "cell_type": "code",
      "source": [
        "classmanimlib.animation.creation.GrowArrow(arrow, **kwargs)"
      ],
      "metadata": {
        "id": "iC4syvvRRsZd"
      },
      "execution_count": null,
      "outputs": []
    },
    {
      "cell_type": "code",
      "source": [
        "%%manim -qm -v WARNING GrowArrowExample\n",
        "class GrowArrowExample(Scene):\n",
        "    def construct(self):\n",
        "        mobjects = VGroup(\n",
        "                Arrow(LEFT,RIGHT),\n",
        "                Vector(RIGHT*2)\n",
        "            )\n",
        "        mobjects.scale(3)\n",
        "        mobjects.arrange_submobjects(DOWN,buff=2)\n",
        "\n",
        "        self.play(\n",
        "            *[GrowArrow(mob)for mob in mobjects]\n",
        "        )\n",
        "\n",
        "        self.wait()"
      ],
      "metadata": {
        "id": "K50MdRuLRvTh"
      },
      "execution_count": null,
      "outputs": []
    },
    {
      "cell_type": "markdown",
      "source": [
        "#Spin In From Nothing"
      ],
      "metadata": {
        "id": "0SVuBYyqR3xH"
      }
    },
    {
      "cell_type": "code",
      "source": [
        "class manimlib.animation.creation.SpinInFromNothing(mobject, **kwargs)"
      ],
      "metadata": {
        "id": "ylUeGAUmR4dF"
      },
      "execution_count": null,
      "outputs": []
    },
    {
      "cell_type": "code",
      "source": [
        "%%manim -qm -v WARNING SpinInFromNothingExample\n",
        "class SpinInFromNothingExample(Scene):\n",
        "    def construct(self):\n",
        "        mobjects = VGroup(\n",
        "                Square(),\n",
        "                RegularPolygon(fill_opacity=1),\n",
        "                TextMobject(\"Text\").scale(2)\n",
        "            )\n",
        "        mobjects.scale(1.5)\n",
        "        mobjects.arrange_submobjects(RIGHT,buff=2)\n",
        "\n",
        "        self.play(\n",
        "            *[SpinInFromNothing(mob) for mob in mobjects]\n",
        "        )\n",
        "\n",
        "        self.wait()"
      ],
      "metadata": {
        "id": "Cm1WK4zZR8RH"
      },
      "execution_count": null,
      "outputs": []
    },
    {
      "cell_type": "markdown",
      "source": [
        "#Shrink To Center"
      ],
      "metadata": {
        "id": "w_Afvus8SEp_"
      }
    },
    {
      "cell_type": "code",
      "source": [
        "class manimlib.animation.creation.ShrinkToCenter(mobject, **kwargs)"
      ],
      "metadata": {
        "id": "183Wh517SIeV"
      },
      "execution_count": null,
      "outputs": []
    },
    {
      "cell_type": "code",
      "source": [
        "%%manim -qm -v WARNING ShrinkToCenterExample\n",
        "class ShrinkToCenterExample(Scene):\n",
        "    def construct(self):\n",
        "        mobjects = VGroup(\n",
        "                Square(),\n",
        "                RegularPolygon(fill_opacity=1),\n",
        "                TextMobject(\"Text\").scale(2)\n",
        "            )\n",
        "        mobjects.scale(1.5)\n",
        "        mobjects.arrange_submobjects(RIGHT,buff=2)\n",
        "\n",
        "        self.play(\n",
        "            *[ShrinkToCenter(mob) for mob in mobjects]\n",
        "        )\n",
        "\n",
        "        self.wait()"
      ],
      "metadata": {
        "id": "cKc6EI1TSMv2"
      },
      "execution_count": null,
      "outputs": []
    },
    {
      "cell_type": "code",
      "source": [
        ""
      ],
      "metadata": {
        "id": "AdwNwMAuSyrG"
      },
      "execution_count": null,
      "outputs": []
    },
    {
      "cell_type": "markdown",
      "source": [
        "# Indication 02"
      ],
      "metadata": {
        "id": "RRTsUTi0S2Pl"
      }
    },
    {
      "cell_type": "markdown",
      "source": [
        "#2.1 Focus On"
      ],
      "metadata": {
        "id": "BhpLvjVzS6c2"
      }
    },
    {
      "cell_type": "code",
      "source": [
        "class manimlib.animation.indication.FocusOn(mobject_or_point, **kwargs)"
      ],
      "metadata": {
        "id": "kfFPAPDLS3wl"
      },
      "execution_count": null,
      "outputs": []
    },
    {
      "cell_type": "code",
      "source": [
        "%%manim -qm -v WARNING FocusOnExample\n",
        "class FocusOnExample(Scene):\n",
        "    def construct(self):\n",
        "        mobjects = VGroup(\n",
        "            Dot(),\n",
        "            TexMobject(\"x\")\n",
        "        )\n",
        "        mobjects.arrange_submobjects(RIGHT,buff=2)\n",
        "\n",
        "        mobject_or_coord = [\n",
        "            *mobjects,                    # Mobjects: Dot and \"x\"\n",
        "            mobjects.get_right()+RIGHT*2  # Coord\n",
        "        ]\n",
        "\n",
        "        colors=[GRAY,RED,BLUE]\n",
        "\n",
        "        self.add(mobjects)\n",
        "\n",
        "        for obj,color in zip(mobject_or_coord,colors):\n",
        "            self.play(FocusOn(obj,color=color))\n",
        "\n",
        "        self.wait(0.3)"
      ],
      "metadata": {
        "id": "pYFkFaAJTHGy"
      },
      "execution_count": null,
      "outputs": []
    },
    {
      "cell_type": "markdown",
      "source": [
        "#2.2 Indicate"
      ],
      "metadata": {
        "id": "pQYHawW1TV3d"
      }
    },
    {
      "cell_type": "code",
      "source": [
        "class manimlib.animation.indication.Indicate(mobject, **kwargs)"
      ],
      "metadata": {
        "id": "oA60H4thTaTx"
      },
      "execution_count": null,
      "outputs": []
    },
    {
      "cell_type": "code",
      "source": [
        "%%manim -qm -v WARNING IndicateExample\n",
        "class IndicateExample(Scene):\n",
        "    def construct(self):\n",
        "        #                     0    1   2\n",
        "        formula = TexMobject(\"f(\",\"x\",\")\")\n",
        "        dot = Dot()\n",
        "\n",
        "        VGroup(formula,dot)\\\n",
        "                           .scale(3)\\\n",
        "                           .arrange_submobjects(DOWN,buff=3)\n",
        "\n",
        "        self.add(formula,dot)\n",
        "\n",
        "        for mob in [formula[1],dot]:\n",
        "            self.play(Indicate(mob))\n",
        "\n",
        "        self.wait(0.3)"
      ],
      "metadata": {
        "id": "Fuh9AnhfTh6Z"
      },
      "execution_count": null,
      "outputs": []
    },
    {
      "cell_type": "markdown",
      "source": [
        "#2.3 Flash"
      ],
      "metadata": {
        "id": "4vrZ5cJiTsW5"
      }
    },
    {
      "cell_type": "code",
      "source": [
        "class manimlib.animation.indication.Flash(point, color='#FFFF00', **kwargs)"
      ],
      "metadata": {
        "id": "WeA4ZudsTwLs"
      },
      "execution_count": null,
      "outputs": []
    },
    {
      "cell_type": "code",
      "source": [
        "%%manim -qm -v WARNING FlashExample\n",
        "class FlashExample(Scene):\n",
        "    def construct(self):\n",
        "        mobjects = VGroup(\n",
        "            Dot(),\n",
        "            TexMobject(\"x\")\n",
        "        ).scale(2)\n",
        "        mobjects.arrange_submobjects(RIGHT,buff=2)\n",
        "\n",
        "        mobject_or_coord = [\n",
        "            *mobjects,                    # Mobjects: Dot and \"x\"\n",
        "            mobjects.get_right()+RIGHT*2  # Coord\n",
        "        ]\n",
        "\n",
        "        colors=[GRAY,RED,BLUE]\n",
        "\n",
        "        self.add(mobjects)\n",
        "\n",
        "        for obj,color in zip(mobject_or_coord,colors):\n",
        "            self.play(Flash(obj,color=color,flash_radius=0.5))\n",
        "\n",
        "        self.wait(0.3)"
      ],
      "metadata": {
        "id": "Cj3PJ-XLT2v5"
      },
      "execution_count": null,
      "outputs": []
    },
    {
      "cell_type": "markdown",
      "source": [
        "#2.4 Circle Indicate"
      ],
      "metadata": {
        "id": "9Oufb7zDT-5u"
      }
    },
    {
      "cell_type": "code",
      "source": [
        "class manimlib.animation.indication.CircleIndicate(mobject, **kwargs)"
      ],
      "metadata": {
        "id": "9AIDS0HAUDQl"
      },
      "execution_count": null,
      "outputs": []
    },
    {
      "cell_type": "code",
      "source": [
        "%%manim -qm -v WARNING CircleIndicateExample\n",
        "class CircleIndicateExample(Scene):\n",
        "    def construct(self):\n",
        "        mobjects = VGroup(\n",
        "            Dot(),\n",
        "            TexMobject(\"x\")\n",
        "        ).scale(2)\n",
        "        mobjects.arrange_submobjects(RIGHT,buff=2)\n",
        "\n",
        "        self.add(mobjects)\n",
        "        self.wait(0.2)\n",
        "\n",
        "        for obj in mobjects:\n",
        "            self.play(CircleIndicate(obj))"
      ],
      "metadata": {
        "id": "A9RWbaAhUGwo"
      },
      "execution_count": null,
      "outputs": []
    },
    {
      "cell_type": "markdown",
      "source": [
        "#2.5 Show Passing Flash"
      ],
      "metadata": {
        "id": "3K7JWv2eUOqs"
      }
    },
    {
      "cell_type": "code",
      "source": [
        "class manimlib.animation.indication.ShowPassingFlash(mobject, **kwargs)"
      ],
      "metadata": {
        "id": "0-hFj3RMUTvV"
      },
      "execution_count": null,
      "outputs": []
    },
    {
      "cell_type": "markdown",
      "source": [
        "#2.6 Show Creation Then Destruction"
      ],
      "metadata": {
        "id": "8vBk6BQzUcMf"
      }
    },
    {
      "cell_type": "code",
      "source": [
        "class manimlib.animation.indication.ShowCreationThenDestruction(mobject, **kwargs)"
      ],
      "metadata": {
        "id": "Gw_SleW8UWbD"
      },
      "execution_count": null,
      "outputs": []
    },
    {
      "cell_type": "code",
      "source": [
        "%%manim -qm -v WARNING ShowCreationThenDestructionExample\n",
        "class ShowCreationThenDestructionExample(Scene):\n",
        "    def construct(self):\n",
        "        mobjects = VGroup(\n",
        "                Circle(),\n",
        "                Circle(fill_opacity=1),\n",
        "                TextMobject(\"Text\").scale(2)\n",
        "            )\n",
        "        mobjects.scale(1.5)\n",
        "        mobjects.arrange_submobjects(RIGHT,buff=2)\n",
        "\n",
        "        self.play(\n",
        "            *[ShowCreationThenDestruction(mob) for mob in mobjects]\n",
        "        )\n",
        "\n",
        "        self.wait()\n",
        "\n",
        "        self.wait(0.3)\n"
      ],
      "metadata": {
        "id": "zN3gaa8yUgyU"
      },
      "execution_count": null,
      "outputs": []
    },
    {
      "cell_type": "markdown",
      "source": [
        "#2.7 Show Creation Then Fade Out"
      ],
      "metadata": {
        "id": "L0JEt8nYUsad"
      }
    },
    {
      "cell_type": "code",
      "source": [
        "class manimlib.animation.indication.ShowCreationThenFadeOut(mobject, **kwargs)"
      ],
      "metadata": {
        "id": "6icU5C9KUyK1"
      },
      "execution_count": null,
      "outputs": []
    },
    {
      "cell_type": "code",
      "source": [
        "%%manim -qm -v WARNING ShowCreationThenFadeOutExample\n",
        "class ShowCreationThenFadeOutExample(Scene):\n",
        "    def construct(self):\n",
        "        mobjects = VGroup(\n",
        "                Circle(),\n",
        "                Circle(fill_opacity=1),\n",
        "                TextMobject(\"Text\").scale(2)\n",
        "            )\n",
        "        mobjects.scale(1.5)\n",
        "        mobjects.arrange_submobjects(RIGHT,buff=2)\n",
        "\n",
        "        self.play(\n",
        "            *[ShowCreationThenFadeOut(mob) for mob in mobjects]\n",
        "        )\n",
        "\n",
        "        self.wait()\n",
        "\n",
        "        self.wait(0.3)"
      ],
      "metadata": {
        "id": "z6ShkxJ0U4ev"
      },
      "execution_count": null,
      "outputs": []
    },
    {
      "cell_type": "markdown",
      "source": [
        "#2.8 Animation On Surrounding Rectangle"
      ],
      "metadata": {
        "id": "Rdg5iMtqVCA_"
      }
    },
    {
      "cell_type": "code",
      "source": [
        "class manimlib.animation.indication.AnimationOnSurroundingRectangle(mobject, **kwargs)"
      ],
      "metadata": {
        "id": "bvqumCHHVEb1"
      },
      "execution_count": null,
      "outputs": []
    },
    {
      "cell_type": "markdown",
      "source": [
        "###\"surrounding_rectangle_config\": {},\n",
        "### Function which takes in a rectangle, and spits\n",
        "### out some animation.  Could be some animation class,\n",
        "### could be something more\n",
        "###\"rect_to_animation\": Animation"
      ],
      "metadata": {
        "id": "cHE0hEsJVRfu"
      }
    },
    {
      "cell_type": "markdown",
      "source": [
        "#2.9 Show Passing Flash Around"
      ],
      "metadata": {
        "id": "M04fyYKPVVnZ"
      }
    },
    {
      "cell_type": "code",
      "source": [
        "%%manim -qm -v WARNING ShowPassingFlashAroundExample\n",
        "class ShowPassingFlashAroundExample(Scene):\n",
        "    def construct(self):\n",
        "        mobjects = VGroup(\n",
        "                Circle(),\n",
        "                Circle(fill_opacity=1),\n",
        "                TextMobject(\"Text\").scale(2)\n",
        "            )\n",
        "        mobjects.scale(1.5)\n",
        "        mobjects.arrange_submobjects(RIGHT,buff=2)\n",
        "\n",
        "        self.add(mobjects)\n",
        "\n",
        "        self.play(\n",
        "            *[ShowPassingFlashAround(mob) for mob in mobjects]\n",
        "        )\n",
        "\n",
        "        self.wait()"
      ],
      "metadata": {
        "id": "g64PmJ49VJgP"
      },
      "execution_count": null,
      "outputs": []
    },
    {
      "cell_type": "markdown",
      "source": [
        "#2.10 Show Creation Then Destruction Around"
      ],
      "metadata": {
        "id": "8KtNHL4DViNc"
      }
    },
    {
      "cell_type": "code",
      "source": [
        "class manimlib.animation.indication.ShowCreationThenDestructionAround(mobject, **kwargs)"
      ],
      "metadata": {
        "id": "SAzXRM_CVmlW"
      },
      "execution_count": null,
      "outputs": []
    },
    {
      "cell_type": "code",
      "source": [
        "%%manim -qm -v WARNING ShowCreationThenDestructionAroundExample\n",
        "class ShowCreationThenDestructionAroundExample(Scene):\n",
        "    def construct(self):\n",
        "        mobjects = VGroup(\n",
        "                Circle(),\n",
        "                Circle(fill_opacity=1),\n",
        "                TextMobject(\"Text\").scale(2)\n",
        "            )\n",
        "        mobjects.scale(1.5)\n",
        "        mobjects.arrange_submobjects(RIGHT,buff=2)\n",
        "\n",
        "        self.add(mobjects)\n",
        "\n",
        "        self.play(\n",
        "            *[ShowCreationThenDestructionAround(mob) for mob in mobjects]\n",
        "        )\n",
        "\n",
        "        self.wait()\n",
        "\n",
        "        self.wait(0.3)"
      ],
      "metadata": {
        "id": "Sc8eZ1JwVpZS"
      },
      "execution_count": null,
      "outputs": []
    },
    {
      "cell_type": "markdown",
      "source": [
        "#2.11 Show Creation Then Fade Around"
      ],
      "metadata": {
        "id": "4oGtBxjbVyAC"
      }
    },
    {
      "cell_type": "code",
      "source": [
        "class manimlib.animation.indication.ShowCreationThenFadeAround(mobject, **kwargs)"
      ],
      "metadata": {
        "id": "OrmePAKJV1mV"
      },
      "execution_count": null,
      "outputs": []
    },
    {
      "cell_type": "code",
      "source": [
        "%%manim -qm -v WARNING ShowCreationThenFadeAroundExample\n",
        "class ShowCreationThenFadeAroundExample(Scene):\n",
        "    def construct(self):\n",
        "        mobjects = VGroup(\n",
        "                Circle(),\n",
        "                Circle(fill_opacity=1),\n",
        "                TextMobject(\"Text\").scale(2)\n",
        "            )\n",
        "        mobjects.scale(1.5)\n",
        "        mobjects.arrange_submobjects(RIGHT,buff=2)\n",
        "\n",
        "        self.add(mobjects)\n",
        "\n",
        "        self.play(\n",
        "            *[ShowCreationThenFadeAround(mob) for mob in mobjects]\n",
        "        )\n",
        "\n",
        "        self.wait()\n",
        "\n",
        "        self.wait(0.3)"
      ],
      "metadata": {
        "id": "XKr_Fo3PV8RG"
      },
      "execution_count": null,
      "outputs": []
    },
    {
      "cell_type": "markdown",
      "source": [
        "#2.12 Apply Wave"
      ],
      "metadata": {
        "id": "COwJH2yoWFgi"
      }
    },
    {
      "cell_type": "code",
      "source": [
        "class manimlib.animation.indication.ApplyWave(mobject, **kwargs)"
      ],
      "metadata": {
        "id": "TrhfwYyhWIBW"
      },
      "execution_count": null,
      "outputs": []
    },
    {
      "cell_type": "code",
      "source": [
        "%%manim -qm -v WARNING ApplyWaveExample\n",
        "class ApplyWaveExample(Scene):\n",
        "    def construct(self):\n",
        "        mobjects = VGroup(\n",
        "                Circle(),\n",
        "                Circle(fill_opacity=1),\n",
        "                TextMobject(\"Text\").scale(2)\n",
        "            )\n",
        "        mobjects.scale(1.5)\n",
        "        mobjects.arrange_submobjects(RIGHT,buff=2)\n",
        "\n",
        "        self.add(mobjects)\n",
        "\n",
        "        self.play(\n",
        "            *[ApplyWave(mob) for mob in mobjects]\n",
        "        )\n",
        "\n",
        "        self.wait()\n",
        "\n",
        "        self.wait(0.3)"
      ],
      "metadata": {
        "id": "pp3qAcqTWKuI"
      },
      "execution_count": null,
      "outputs": []
    },
    {
      "cell_type": "markdown",
      "source": [
        "#2.13 Wiggle Out ThenIn"
      ],
      "metadata": {
        "id": "J_g39u34WWxO"
      }
    },
    {
      "cell_type": "code",
      "source": [
        "class manimlib.animation.indication.WiggleOutThenIn(mobject, **kwargs)"
      ],
      "metadata": {
        "id": "aX88PR_nWWZe"
      },
      "execution_count": null,
      "outputs": []
    },
    {
      "cell_type": "code",
      "source": [
        "%%manim -qm -v WARNING WiggleOutTheInExample\n",
        "class WiggleOutThenInExample(Scene):\n",
        "    def construct(self):\n",
        "        mobjects = VGroup(\n",
        "                Circle(),\n",
        "                Circle(fill_opacity=1),\n",
        "                TextMobject(\"Text\").scale(2)\n",
        "            )\n",
        "        mobjects.scale(1.5)\n",
        "        mobjects.arrange_submobjects(RIGHT,buff=2)\n",
        "\n",
        "        self.add(mobjects)\n",
        "\n",
        "        self.play(\n",
        "            *[WiggleOutThenIn(mob) for mob in mobjects]\n",
        "        )\n",
        "\n",
        "        self.wait()"
      ],
      "metadata": {
        "id": "rxryh8zeWcHy"
      },
      "execution_count": null,
      "outputs": []
    },
    {
      "cell_type": "markdown",
      "source": [
        "#2.14 Turn Inside Out"
      ],
      "metadata": {
        "id": "bZ9QPpEkWkhK"
      }
    },
    {
      "cell_type": "code",
      "source": [
        "class manimlib.animation.indication.TurnInsideOut(mobject, **kwargs)"
      ],
      "metadata": {
        "id": "2VN1xbYPWpGW"
      },
      "execution_count": null,
      "outputs": []
    },
    {
      "cell_type": "code",
      "source": [
        "%%manim -qm -v WARNING TurnInsideOutExample\n",
        "class TurnInsideOutExample(Scene):\n",
        "    def construct(self):\n",
        "        mobjects = VGroup(\n",
        "                Circle(),\n",
        "                Circle(fill_opacity=1),\n",
        "                TextMobject(\"Text\").scale(2)\n",
        "            )\n",
        "        mobjects.scale(1.5)\n",
        "        mobjects.arrange_submobjects(RIGHT,buff=2)\n",
        "\n",
        "        self.add(mobjects)\n",
        "\n",
        "        self.play(\n",
        "            *[TurnInsideOut(mob) for mob in mobjects]\n",
        "        )\n",
        "\n",
        "        self.wait()\n",
        "\n",
        "        self.wait(0.3)"
      ],
      "metadata": {
        "id": "1Ez-TWRBWuJx"
      },
      "execution_count": null,
      "outputs": []
    },
    {
      "cell_type": "markdown",
      "source": [
        "# Transformations 03"
      ],
      "metadata": {
        "id": "nmyY-XX0YK47"
      }
    },
    {
      "cell_type": "markdown",
      "source": [
        "##3.1 Transform"
      ],
      "metadata": {
        "id": "vQ2OBW_wYSm0"
      }
    },
    {
      "cell_type": "code",
      "source": [
        "class manimlib.animation.transform.Transform(mobject, target_mobject, **kwargs)"
      ],
      "metadata": {
        "id": "dEUVNd9hYQ-X"
      },
      "execution_count": null,
      "outputs": []
    },
    {
      "cell_type": "code",
      "source": [
        "%%manim -qm -v WARning TransformExample\n",
        "class TransformExample(Scene):\n",
        "    def construct(self):\n",
        "        mobject = RegularPolygon(3).scale(2)\n",
        "\n",
        "        self.add(mobject)\n",
        "\n",
        "        for n in range(4,9):\n",
        "            self.play(\n",
        "                Transform(\n",
        "                    mobject,\n",
        "                    RegularPolygon(n).scale(2)\n",
        "                )\n",
        "            )\n",
        "\n",
        "        self.wait(0.3)"
      ],
      "metadata": {
        "id": "ub4LuU5qYZtg"
      },
      "execution_count": null,
      "outputs": []
    },
    {
      "cell_type": "markdown",
      "source": [
        "##3.2 Replacement Transform"
      ],
      "metadata": {
        "id": "yjtcwwXVYh98"
      }
    },
    {
      "cell_type": "code",
      "source": [
        "class manimlib.animation.transform.ReplacementTransform(mobject, target_mobject, **kwargs) "
      ],
      "metadata": {
        "id": "PPxzHRxfYkkO"
      },
      "execution_count": null,
      "outputs": []
    },
    {
      "cell_type": "code",
      "source": [
        "%%manim -qm -v WARNING ReplacementTransformExample\n",
        "class ReplacementTransformExample(Scene):\n",
        "    def construct(self):\n",
        "        polygons = [*[RegularPolygon(n).scale(2) for n in range(3,9)]]\n",
        "\n",
        "        self.add(polygons[0])\n",
        "\n",
        "        for i in range(len(polygons)-1):\n",
        "            self.play(\n",
        "                ReplacementTransform(\n",
        "                    polygons[i],\n",
        "                    polygons[i+1]\n",
        "                )\n",
        "            )\n",
        "\n",
        "        self.wait(0.3)"
      ],
      "metadata": {
        "id": "Pj68C__-Yois"
      },
      "execution_count": null,
      "outputs": []
    },
    {
      "cell_type": "markdown",
      "source": [
        "##3.4 Transform From Copy"
      ],
      "metadata": {
        "id": "zb7r1a19YxwA"
      }
    },
    {
      "cell_type": "code",
      "source": [
        "class manimlib.animation.transform.TransformFromCopy(mobject, target_mobject, **kwargs)"
      ],
      "metadata": {
        "id": "xUwZL8jjY5ju"
      },
      "execution_count": null,
      "outputs": []
    },
    {
      "cell_type": "code",
      "source": [
        "%%manim -qm -v WARNING TransformFromCopyExample\n",
        "class TransformFromCopyExample(Scene):\n",
        "    def construct(self):\n",
        "        mobject = RegularPolygon(3).scale(2)\n",
        "\n",
        "        self.add(mobject)\n",
        "\n",
        "        for n in range(4,9):\n",
        "            self.play(\n",
        "                TransformFromCopy(\n",
        "                    mobject,\n",
        "                    RegularPolygon(n).scale(2)\n",
        "                )\n",
        "            )\n",
        "\n",
        "        self.wait(0.3)"
      ],
      "metadata": {
        "id": "CvUuLwcXY8_a"
      },
      "execution_count": null,
      "outputs": []
    },
    {
      "cell_type": "markdown",
      "source": [
        "##3.5 Clockwise Transform"
      ],
      "metadata": {
        "id": "QyayIbs_ZFgi"
      }
    },
    {
      "cell_type": "code",
      "source": [
        "class manimlib.animation.transform.ClockwiseTransform(mobject, target_mobject, **kwargs)"
      ],
      "metadata": {
        "id": "jQ1DsQ0oZXa9"
      },
      "execution_count": null,
      "outputs": []
    },
    {
      "cell_type": "code",
      "source": [
        "%%manim -qm -v WARNING ClockwiseTransformExample\n",
        "class ClockwiseTransformExample(Scene):\n",
        "    def construct(self):\n",
        "        polygons = VGroup(\n",
        "              *[RegularPolygon(n).scale(0.7) for n in range(3,9)]\n",
        "        ).arrange_submobjects(RIGHT,buff=1)\n",
        "\n",
        "        self.add(polygons[0])\n",
        "\n",
        "        for i in range(len(polygons)-1):\n",
        "            self.play(\n",
        "                ClockwiseTransform(\n",
        "                    polygons[0],\n",
        "                    polygons[i+1]\n",
        "                )\n",
        "            )\n",
        "\n",
        "        self.wait(0.3)"
      ],
      "metadata": {
        "id": "KEeEhpwrZcf2"
      },
      "execution_count": null,
      "outputs": []
    },
    {
      "cell_type": "markdown",
      "source": [
        "##3.6 Counterclockwise Transform"
      ],
      "metadata": {
        "id": "xRCvb3YGZlle"
      }
    },
    {
      "cell_type": "code",
      "source": [
        "class manimlib.animation.transform.CounterclockwiseTransform(mobject, target_mobject, **kwargs)"
      ],
      "metadata": {
        "id": "-WZymHdtZoi2"
      },
      "execution_count": null,
      "outputs": []
    },
    {
      "cell_type": "code",
      "source": [
        "%%manim -qm -v WARNING CounterclockwiseTransformExample\n",
        "class CounterclockwiseTransformExample(Scene):\n",
        "    def construct(self):\n",
        "        polygons = VGroup(\n",
        "            *[RegularPolygon(n).scale(0.7) for n in range(3,9)]\n",
        "        ).arrange_submobjects(RIGHT,buff=1)\n",
        "\n",
        "        self.add(polygons[0])\n",
        "\n",
        "        for i in range(len(polygons)-1):\n",
        "            self.play(\n",
        "                CounterclockwiseTransform(\n",
        "                    polygons[0],\n",
        "                    polygons[i+1]\n",
        "                )\n",
        "            )\n",
        "\n",
        "        self.wait(0.3)"
      ],
      "metadata": {
        "id": "E39eNDMuZrq9"
      },
      "execution_count": null,
      "outputs": []
    },
    {
      "cell_type": "markdown",
      "source": [
        "##3.7 Move To Target"
      ],
      "metadata": {
        "id": "oF3ipLwHZ8mv"
      }
    },
    {
      "cell_type": "code",
      "source": [
        "class manimlib.animation.transform.MoveToTarget(mobject, **kwargs)"
      ],
      "metadata": {
        "id": "grfHvysDaPYG"
      },
      "execution_count": null,
      "outputs": []
    },
    {
      "cell_type": "code",
      "source": [
        "%%manim -qm -v WARNING MoveToTargetExample\n",
        "class MoveToTargetExample(Scene):\n",
        "    def construct(self):\n",
        "        mobject=Square()\n",
        "        mobject.generate_target()\n",
        "        VGroup(mobject,mobject.target)\\\n",
        "            .arrange_submobjects(RIGHT,buff=3)\n",
        "\n",
        "        mobject.target.rotate(PI/4)\\\n",
        "                      .scale(2)\\\n",
        "                      .set_stroke(PURPLE,9)\\\n",
        "                      .set_fill(ORANGE,1)\n",
        "\n",
        "        self.add(mobject)\n",
        "        self.wait(0.3)\n",
        "\n",
        "        self.play(MoveToTarget(mobject))\n",
        "        self.wait(0.3)"
      ],
      "metadata": {
        "id": "zcQbHyvuaSEA"
      },
      "execution_count": null,
      "outputs": []
    },
    {
      "cell_type": "markdown",
      "source": [
        "##3.8 Apply Method "
      ],
      "metadata": {
        "id": "JsgamOwYacUE"
      }
    },
    {
      "cell_type": "code",
      "source": [
        "class manimlib.animation.transform.ApplyMethod(method, *args, **kwargs)"
      ],
      "metadata": {
        "id": "S_K9Rzvtaezd"
      },
      "execution_count": null,
      "outputs": []
    },
    {
      "cell_type": "code",
      "source": [
        "%%manim -qm -v WARNING ApplyMethodExample\n",
        "class ApplyMethodExample(Scene):\n",
        "    def construct(self):\n",
        "        dot = Dot()\n",
        "        text = TextMobject(\"Text\")\n",
        "\n",
        "        dot.next_to(text,LEFT)\n",
        "\n",
        "        self.add(text,dot)\n",
        "\n",
        "        self.play(ApplyMethod(text.scale,3,{\"about_point\":dot.get_center()}))\n",
        "        #                                  --------------------------------\n",
        "        #                                          Optional parameters\n",
        "\n",
        "        self.wait(0.3)"
      ],
      "metadata": {
        "id": "k8VgIazJah4W"
      },
      "execution_count": null,
      "outputs": []
    },
    {
      "cell_type": "markdown",
      "source": [
        "##3.10 Apply Pointwise Function\n"
      ],
      "metadata": {
        "id": "s04AmPqbaqn6"
      }
    },
    {
      "cell_type": "code",
      "source": [
        "class manimlib.animation.transform.ApplyPointwiseFunction(function, mobject, **kwargs)"
      ],
      "metadata": {
        "id": "qRNFYutVaxbW"
      },
      "execution_count": null,
      "outputs": []
    },
    {
      "cell_type": "code",
      "source": [
        "%%manim -qm -v WARNING ApplyPointwiseFunctionExample\n",
        "class ApplyPointwiseFunctionExample(Scene):\n",
        "    def construct(self):\n",
        "        text = TextMobject(\"Text\")\n",
        "\n",
        "        self.add(text)\n",
        "\n",
        "        def spread_out(p):\n",
        "            p = p + 2*DOWN\n",
        "            return (FRAME_X_RADIUS+FRAME_Y_RADIUS)*p/get_norm(p)\n",
        "            #      -------------------------------\n",
        "            #          See manimlib/constants.py\n",
        "\n",
        "        self.play(\n",
        "            ApplyPointwiseFunction(spread_out, text)\n",
        "        )"
      ],
      "metadata": {
        "id": "z1y2G08Ea3rG"
      },
      "execution_count": null,
      "outputs": []
    },
    {
      "cell_type": "markdown",
      "source": [
        "##3.11 Fade To Color"
      ],
      "metadata": {
        "id": "v2n8Z904bERU"
      }
    },
    {
      "cell_type": "code",
      "source": [
        "%%manim -qm -v WARNING FadeToColorExample\n",
        "class FadeToColorExample(Scene):\n",
        "    def construct(self):\n",
        "        text = TextMobject(\"Text\")\\\n",
        "               .set_width(FRAME_WIDTH)\n",
        "\n",
        "        colors=[RED,PURPLE,GOLD,TEAL]\n",
        "\n",
        "        self.add(text)\n",
        "\n",
        "        for color in colors:\n",
        "            self.play(FadeToColor(text,color))\n",
        "\n",
        "        self.wait(0.3)"
      ],
      "metadata": {
        "id": "VwZCt-zKbJSQ"
      },
      "execution_count": null,
      "outputs": []
    },
    {
      "cell_type": "markdown",
      "source": [
        "##3.12 Scale In Place"
      ],
      "metadata": {
        "id": "-TAQdkPvbTXO"
      }
    },
    {
      "cell_type": "code",
      "source": [
        "class manimlib.animation.transform.ScaleInPlace(mobject, scale_factor, **kwargs)"
      ],
      "metadata": {
        "id": "8qTJ76Z_bUyW"
      },
      "execution_count": null,
      "outputs": []
    },
    {
      "cell_type": "code",
      "source": [
        "%%manim -qm -v WARNING ScaleInPLaceExample\n",
        "class ScaleInPlaceExample(Scene):\n",
        "    def construct(self):\n",
        "        text = TextMobject(\"Text\")\\\n",
        "               .set_width(FRAME_WIDTH/2)\n",
        "\n",
        "        scale_factors=[2,0.3,0.6,2]\n",
        "\n",
        "        self.add(text)\n",
        "\n",
        "        for scale_factor in scale_factors:\n",
        "            self.play(ScaleInPlace(text,scale_factor))\n",
        "\n",
        "        self.wait(0.3)"
      ],
      "metadata": {
        "id": "shlITAuIbY1D"
      },
      "execution_count": null,
      "outputs": []
    },
    {
      "cell_type": "markdown",
      "source": [
        "##3.13 Restore"
      ],
      "metadata": {
        "id": "RcwCUclLbpuB"
      }
    },
    {
      "cell_type": "code",
      "source": [
        "class manimlib.animation.transform.Restore(mobject, **kwargs)"
      ],
      "metadata": {
        "id": "UoS7mdNjbsDO"
      },
      "execution_count": null,
      "outputs": []
    },
    {
      "cell_type": "code",
      "source": [
        "%%manim -qm -v WARNING RestoreExample\n",
        "class RestoreExample(Scene):\n",
        "    def construct(self):\n",
        "        text = TextMobject(\"Original\")\\\n",
        "               .set_width(FRAME_WIDTH/2)\n",
        "\n",
        "        text.save_state()\n",
        "\n",
        "        text_2 = TextMobject(\"Modified\")\\\n",
        "               .set_width(FRAME_WIDTH/1.5)\\\n",
        "               .set_color(ORANGE)\\\n",
        "               .to_corner(DL)\n",
        "\n",
        "        self.add(text)\n",
        "\n",
        "        self.play(Transform(text,text_2))\n",
        "        self.play(\n",
        "            text.shift,RIGHT,\n",
        "            text.rotate,PI/4\n",
        "            )\n",
        "        self.play(Restore(text))\n",
        "\n",
        "        self.wait(0.7)"
      ],
      "metadata": {
        "id": "D9_QtAMtbyft"
      },
      "execution_count": null,
      "outputs": []
    },
    {
      "cell_type": "markdown",
      "source": [
        "##3.14 Apply Function"
      ],
      "metadata": {
        "id": "RVNf9RlWb4g3"
      }
    },
    {
      "cell_type": "code",
      "source": [
        "class manimlib.animation.transform.ApplyFunction(function, mobject, **kwargs)"
      ],
      "metadata": {
        "id": "HLHeYz11b-je"
      },
      "execution_count": null,
      "outputs": []
    },
    {
      "cell_type": "code",
      "source": [
        "%%manim -qm -v WARNING ApplyFunctionExample\n",
        "class ApplyFunctionExample(Scene):\n",
        "    def construct(self):\n",
        "        text = TextMobject(\"Text\")\\\n",
        "               .to_corner(DL)\n",
        "\n",
        "        self.add(text)\n",
        "\n",
        "        def apply_function(mob):\n",
        "            mob.scale(2)\n",
        "            mob.to_corner(UR)\n",
        "            mob.rotate(PI/4)\n",
        "            mob.set_color(RED)\n",
        "            return mob\n",
        "\n",
        "        self.play(\n",
        "            ApplyFunction(\n",
        "                apply_function,\n",
        "                text\n",
        "            )\n",
        "        )\n",
        "\n",
        "        self.wait(0.3)"
      ],
      "metadata": {
        "id": "3UpCX4lmcBI2"
      },
      "execution_count": null,
      "outputs": []
    },
    {
      "cell_type": "markdown",
      "source": [
        "##3.15 Complex Function\n"
      ],
      "metadata": {
        "id": "QPhEqBGlcNGo"
      }
    },
    {
      "cell_type": "code",
      "source": [
        "class manimlib.animation.transform.ComplexFunction(function, mobject, **kwargs)\n"
      ],
      "metadata": {
        "id": "KEWOcD-ccPbm"
      },
      "execution_count": null,
      "outputs": []
    },
    {
      "cell_type": "markdown",
      "source": [
        "##3.16 Cyclic Replace"
      ],
      "metadata": {
        "id": "cK1gUqRjcUuf"
      }
    },
    {
      "cell_type": "code",
      "source": [
        "classmanimlib.animation.transform.CyclicReplace(*mobjects, **kwargs)"
      ],
      "metadata": {
        "id": "X9KSgIGXcgRZ"
      },
      "execution_count": null,
      "outputs": []
    },
    {
      "cell_type": "markdown",
      "source": [
        "##3.17 Transform Animations\n"
      ],
      "metadata": {
        "id": "AONjGc5nclI4"
      }
    },
    {
      "cell_type": "code",
      "source": [
        "class manimlib.animation.transform.TransformAnimations(start_anim, end_anim, **kwargs)"
      ],
      "metadata": {
        "id": "VWRTfORPchH-"
      },
      "execution_count": null,
      "outputs": []
    },
    {
      "cell_type": "code",
      "source": [
        ""
      ],
      "metadata": {
        "id": "YRhZXxOncrxI"
      },
      "execution_count": null,
      "outputs": []
    },
    {
      "cell_type": "code",
      "source": [
        ""
      ],
      "metadata": {
        "id": "m2uk2F6TcbhP"
      },
      "execution_count": null,
      "outputs": []
    },
    {
      "cell_type": "markdown",
      "source": [
        "# Movement and Rotations 04"
      ],
      "metadata": {
        "id": "MagzBgArdiFz"
      }
    },
    {
      "cell_type": "code",
      "source": [
        ""
      ],
      "metadata": {
        "id": "G-xfc_z5dlx2"
      },
      "execution_count": null,
      "outputs": []
    },
    {
      "cell_type": "markdown",
      "source": [
        "## 4.1 Homotopy"
      ],
      "metadata": {
        "id": "aYYoXXoGdmkv"
      }
    },
    {
      "cell_type": "code",
      "source": [
        "classmanimlib.animation.movement.Homotopy(homotopy, mobject, **kwargs)"
      ],
      "metadata": {
        "id": "jeUPexVbdpsH"
      },
      "execution_count": null,
      "outputs": []
    },
    {
      "cell_type": "code",
      "source": [
        "%%manim -qm -v WARNING HomotopyExample\n",
        "class HomotopyExample(Scene):\n",
        "    def construct(self):\n",
        "        def plane_wave_homotopy(x, y, z, t):\n",
        "            norm = get_norm([x, y])\n",
        "            tau = interpolate(5, -5, t) + norm/FRAME_X_RADIUS\n",
        "            alpha = sigmoid(tau)\n",
        "            return [x, y + 0.5*np.sin(2*np.pi*alpha)-t*SMALL_BUFF/2, z]\n",
        "\n",
        "        mobjects=VGroup(\n",
        "            TextMobject(\"Text\").scale(3),\n",
        "            Square(),\n",
        "        ).arrange_submobjects(RIGHT,buff=2)\n",
        "\n",
        "        self.add(mobjects)\n",
        "        self.play(\n",
        "            *[Homotopy(\n",
        "                plane_wave_homotopy,\n",
        "                mob\n",
        "            ) for mob in mobjects]\n",
        "        )\n",
        "        self.wait(0.3)"
      ],
      "metadata": {
        "id": "2Y2Urcu3dsFT"
      },
      "execution_count": null,
      "outputs": []
    },
    {
      "cell_type": "markdown",
      "source": [
        "##4.2 Complex Homotopy"
      ],
      "metadata": {
        "id": "XLgRshzodzwR"
      }
    },
    {
      "cell_type": "code",
      "source": [
        "classmanimlib.animation.movement.ComplexHomotopy(complex_homotopy, mobject, **kwargs)\n",
        "# Complex Hootopy a function Cx[0, 1] to C"
      ],
      "metadata": {
        "id": "k2akQex3d2uR"
      },
      "execution_count": null,
      "outputs": []
    },
    {
      "cell_type": "markdown",
      "source": [
        "##4.3 Phase Flow"
      ],
      "metadata": {
        "id": "iLytfogad8bR"
      }
    },
    {
      "cell_type": "code",
      "source": [
        "%%manim -qm -v WARNING PhaseFlowExample\n",
        "class PhaseFlowExample(Scene):\n",
        "    def construct(self):\n",
        "        def func(t):\n",
        "            return t*0.5*RIGHT\n",
        "\n",
        "        mobjects=VGroup(\n",
        "            TextMobject(\"Text\").scale(3),\n",
        "            Square(),\n",
        "        ).arrange_submobjects(RIGHT,buff=2)\n",
        "\n",
        "        self.play(\n",
        "            *[PhaseFlow(\n",
        "                func, mob,\n",
        "                run_time = 2,\n",
        "            )for mob in mobjects]\n",
        "        )\n",
        "\n",
        "        self.wait()"
      ],
      "metadata": {
        "id": "aC2gRkQ5d4yU"
      },
      "execution_count": null,
      "outputs": []
    },
    {
      "cell_type": "markdown",
      "source": [
        "## 4.4 Move Along Path"
      ],
      "metadata": {
        "id": "KwxbqgAYeOgh"
      }
    },
    {
      "cell_type": "code",
      "source": [
        "class manimlib.animation.movement.MoveAlongPath(mobject, path, **kwargs)"
      ],
      "metadata": {
        "id": "yjmLANeKePnO"
      },
      "execution_count": null,
      "outputs": []
    },
    {
      "cell_type": "code",
      "source": [
        "%%manim -qm -v WARNING MOveAlongPathExample\n",
        "class MoveAlongPathExample(Scene):\n",
        "    def construct(self):\n",
        "        line=Line(ORIGIN,RIGHT*FRAME_WIDTH,buff=1)\n",
        "        line.move_to(ORIGIN)\n",
        "        dot=Dot()\n",
        "        dot.move_to(line.get_start())\n",
        "\n",
        "        self.add(line,dot)\n",
        "        self.play(\n",
        "            MoveAlongPath(dot,line)\n",
        "        )\n",
        "        self.wait(0.3)"
      ],
      "metadata": {
        "id": "CXpGe10QeSAF"
      },
      "execution_count": null,
      "outputs": []
    },
    {
      "cell_type": "markdown",
      "source": [
        "## 4.5 Rotating"
      ],
      "metadata": {
        "id": "LO4_NP3HecFv"
      }
    },
    {
      "cell_type": "code",
      "source": [
        "class manimlib.animation.movement.MoveAlongPath(mobject, path, **kwargs)"
      ],
      "metadata": {
        "id": "LsdeqpUqeiFO"
      },
      "execution_count": null,
      "outputs": []
    },
    {
      "cell_type": "code",
      "source": [
        "class MoveAlongPathExample(Scene):\n",
        "    def construct(self):\n",
        "        line=Line(ORIGIN,RIGHT*FRAME_WIDTH,buff=1)\n",
        "        line.move_to(ORIGIN)\n",
        "        dot=Dot()\n",
        "        dot.move_to(line.get_start())\n",
        "\n",
        "        self.add(line,dot)\n",
        "        self.play(\n",
        "            MoveAlongPath(dot,line)\n",
        "        )\n",
        "        self.wait(0.3)"
      ],
      "metadata": {
        "id": "BTSy_FFbefuG"
      },
      "execution_count": null,
      "outputs": []
    },
    {
      "cell_type": "markdown",
      "source": [
        "##4.6 Rotating"
      ],
      "metadata": {
        "id": "AHr_6dLLemUQ"
      }
    },
    {
      "cell_type": "code",
      "source": [
        "class manimlib.animation.rotation.Rotating(mobject, **kwargs)"
      ],
      "metadata": {
        "id": "7wmlHTP0emEy"
      },
      "execution_count": null,
      "outputs": []
    },
    {
      "cell_type": "code",
      "source": [
        "%%manim -qm -v WARNING RotatingExample\n",
        "class RotatingExample(Scene):\n",
        "    def construct(self):\n",
        "        square=Square().scale(2)\n",
        "        self.add(square)\n",
        "\n",
        "        self.play(\n",
        "            Rotating(\n",
        "                square,\n",
        "                radians=PI/4,\n",
        "                run_time=2\n",
        "            )\n",
        "        )\n",
        "        self.wait(0.3)\n",
        "        self.play(\n",
        "            Rotating(\n",
        "                square,\n",
        "                radians=PI,\n",
        "                run_time=2,\n",
        "                axis=RIGHT\n",
        "            )\n",
        "        )\n",
        "        self.wait(0.3)"
      ],
      "metadata": {
        "id": "AysKJGrZesb2"
      },
      "execution_count": null,
      "outputs": []
    },
    {
      "cell_type": "markdown",
      "source": [
        "##4.7 Rotate"
      ],
      "metadata": {
        "id": "1Fv2j9ERe4L1"
      }
    },
    {
      "cell_type": "code",
      "source": [
        "class manimlib.animation.rotation.Rotate(mobject, angle=3.141592653589793, axis=array([0.0, 0.0, 1.0]), **kwargs)"
      ],
      "metadata": {
        "id": "OIQNw_Bue1FH"
      },
      "execution_count": 3,
      "outputs": []
    },
    {
      "cell_type": "code",
      "source": [
        "%%manim -qm -v WARNING RotateExample\n",
        "class RotateExample(Scene):\n",
        "    def construct(self):\n",
        "        square=Square().scale(2)\n",
        "        self.add(square)\n",
        "\n",
        "        self.play(\n",
        "            Rotate(\n",
        "                square,\n",
        "                PI/4,\n",
        "                run_time=2\n",
        "            )\n",
        "        )\n",
        "        self.wait(0.3)\n",
        "        self.play(\n",
        "            Rotate(\n",
        "                square,\n",
        "                PI,\n",
        "                run_time=2,\n",
        "                axis=RIGHT\n",
        "            )\n",
        "        )\n",
        "        self.wait(0.3)"
      ],
      "metadata": {
        "id": "zBrSu4Pqe3mf"
      },
      "execution_count": null,
      "outputs": []
    }
  ]
}